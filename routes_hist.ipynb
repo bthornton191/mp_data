{
 "cells": [
  {
   "cell_type": "code",
   "execution_count": 100,
   "metadata": {},
   "outputs": [],
   "source": [
    "from pathlib import Path\n",
    "import re\n",
    "import csv\n",
    "\n",
    "import requests\n",
    "import pandas as pd\n",
    "import plotly.express as px"
   ]
  },
  {
   "cell_type": "code",
   "execution_count": 80,
   "metadata": {},
   "outputs": [],
   "source": [
    "TICK_URL = 'https://www.mountainproject.com/user/112795239/ben-thornton/tick-export'\n",
    "RE_YDS = re.compile(r'5\\.(\\d{1,2})\\s*([abcd\\+])?\\s*R?', flags=re.IGNORECASE)\n",
    "RE_VERMIN = re.compile(r'V(\\d{1,2})\\s*R?', flags=re.IGNORECASE)"
   ]
  },
  {
   "cell_type": "code",
   "execution_count": 81,
   "metadata": {},
   "outputs": [],
   "source": [
    "def get_subgrade(rating):\n",
    "    if (match := RE_YDS.match(rating)) != None:\n",
    "        try:\n",
    "            groups = match.groups()\n",
    "        except:\n",
    "            pass\n",
    "        if len(groups) < 2:\n",
    "            return None\n",
    "        else:\n",
    "            return groups[1]\n",
    "    \n",
    "    elif match := RE_VERMIN.match(rating) != None:\n",
    "        return None\n",
    "\n",
    "    else:\n",
    "        raise ValueError('Grade not recognized')            \n",
    "\n",
    "def get_grade(rating):\n",
    "    if (match := RE_YDS.match(rating)) != None:\n",
    "        try:\n",
    "            grade = int(match.groups()[0])\n",
    "        except:\n",
    "            pass\n",
    "    \n",
    "    elif (match := RE_VERMIN.match(rating)) != None:\n",
    "        grade = int(match.groups()[0])\n",
    "\n",
    "    else:\n",
    "        raise ValueError('Grade not recognized')      \n",
    "    \n",
    "    return grade"
   ]
  },
  {
   "cell_type": "code",
   "execution_count": 103,
   "metadata": {},
   "outputs": [
    {
     "data": {
      "text/html": [
       "<div>\n",
       "<style scoped>\n",
       "    .dataframe tbody tr th:only-of-type {\n",
       "        vertical-align: middle;\n",
       "    }\n",
       "\n",
       "    .dataframe tbody tr th {\n",
       "        vertical-align: top;\n",
       "    }\n",
       "\n",
       "    .dataframe thead th {\n",
       "        text-align: right;\n",
       "    }\n",
       "</style>\n",
       "<table border=\"1\" class=\"dataframe\">\n",
       "  <thead>\n",
       "    <tr style=\"text-align: right;\">\n",
       "      <th></th>\n",
       "      <th>Date</th>\n",
       "      <th>Route</th>\n",
       "      <th>Style</th>\n",
       "      <th>Lead Style</th>\n",
       "      <th>Route Type</th>\n",
       "      <th>Grade</th>\n",
       "      <th>Subgrade</th>\n",
       "      <th>Year</th>\n",
       "    </tr>\n",
       "  </thead>\n",
       "  <tbody>\n",
       "    <tr>\n",
       "      <th>1</th>\n",
       "      <td>2022-03-20</td>\n",
       "      <td>A Cat Amongst the Pigeons</td>\n",
       "      <td>Lead</td>\n",
       "      <td>Redpoint</td>\n",
       "      <td>Sport</td>\n",
       "      <td>12</td>\n",
       "      <td>a</td>\n",
       "      <td>2022</td>\n",
       "    </tr>\n",
       "    <tr>\n",
       "      <th>2</th>\n",
       "      <td>2022-03-20</td>\n",
       "      <td>A Cat Amongst the Pigeons</td>\n",
       "      <td>Lead</td>\n",
       "      <td>Fell/Hung</td>\n",
       "      <td>Sport</td>\n",
       "      <td>12</td>\n",
       "      <td>a</td>\n",
       "      <td>2022</td>\n",
       "    </tr>\n",
       "    <tr>\n",
       "      <th>3</th>\n",
       "      <td>2022-03-20</td>\n",
       "      <td>Tourist Attractions</td>\n",
       "      <td>Lead</td>\n",
       "      <td>Onsight</td>\n",
       "      <td>Sport</td>\n",
       "      <td>10</td>\n",
       "      <td>b</td>\n",
       "      <td>2022</td>\n",
       "    </tr>\n",
       "    <tr>\n",
       "      <th>4</th>\n",
       "      <td>2022-03-19</td>\n",
       "      <td>Like A Turtle</td>\n",
       "      <td>Lead</td>\n",
       "      <td>Flash</td>\n",
       "      <td>Sport</td>\n",
       "      <td>11</td>\n",
       "      <td>b</td>\n",
       "      <td>2022</td>\n",
       "    </tr>\n",
       "    <tr>\n",
       "      <th>5</th>\n",
       "      <td>2022-03-19</td>\n",
       "      <td>Two Women Alone</td>\n",
       "      <td>Lead</td>\n",
       "      <td>Onsight</td>\n",
       "      <td>Sport</td>\n",
       "      <td>11</td>\n",
       "      <td>a</td>\n",
       "      <td>2022</td>\n",
       "    </tr>\n",
       "    <tr>\n",
       "      <th>...</th>\n",
       "      <td>...</td>\n",
       "      <td>...</td>\n",
       "      <td>...</td>\n",
       "      <td>...</td>\n",
       "      <td>...</td>\n",
       "      <td>...</td>\n",
       "      <td>...</td>\n",
       "      <td>...</td>\n",
       "    </tr>\n",
       "    <tr>\n",
       "      <th>361</th>\n",
       "      <td>2017-08-27</td>\n",
       "      <td>Biohazard</td>\n",
       "      <td>TR</td>\n",
       "      <td></td>\n",
       "      <td>Trad</td>\n",
       "      <td>10</td>\n",
       "      <td>a</td>\n",
       "      <td>2017</td>\n",
       "    </tr>\n",
       "    <tr>\n",
       "      <th>362</th>\n",
       "      <td>2017-08-26</td>\n",
       "      <td>Team Jesus</td>\n",
       "      <td>TR</td>\n",
       "      <td></td>\n",
       "      <td>Trad</td>\n",
       "      <td>10</td>\n",
       "      <td>a</td>\n",
       "      <td>2017</td>\n",
       "    </tr>\n",
       "    <tr>\n",
       "      <th>363</th>\n",
       "      <td>2017-08-26</td>\n",
       "      <td>New River Gunks</td>\n",
       "      <td>Follow</td>\n",
       "      <td></td>\n",
       "      <td>Trad, TR</td>\n",
       "      <td>7</td>\n",
       "      <td>+</td>\n",
       "      <td>2017</td>\n",
       "    </tr>\n",
       "    <tr>\n",
       "      <th>364</th>\n",
       "      <td>2017-04-02</td>\n",
       "      <td>Surly Girl</td>\n",
       "      <td></td>\n",
       "      <td></td>\n",
       "      <td>TR</td>\n",
       "      <td>8</td>\n",
       "      <td>None</td>\n",
       "      <td>2017</td>\n",
       "    </tr>\n",
       "    <tr>\n",
       "      <th>365</th>\n",
       "      <td>2015-07-03</td>\n",
       "      <td>Easily Flakey</td>\n",
       "      <td>TR</td>\n",
       "      <td></td>\n",
       "      <td>Trad, TR</td>\n",
       "      <td>7</td>\n",
       "      <td>None</td>\n",
       "      <td>2015</td>\n",
       "    </tr>\n",
       "  </tbody>\n",
       "</table>\n",
       "<p>365 rows × 8 columns</p>\n",
       "</div>"
      ],
      "text/plain": [
       "0          Date                      Route   Style Lead Style Route Type  \\\n",
       "1    2022-03-20  A Cat Amongst the Pigeons    Lead   Redpoint      Sport   \n",
       "2    2022-03-20  A Cat Amongst the Pigeons    Lead  Fell/Hung      Sport   \n",
       "3    2022-03-20        Tourist Attractions    Lead    Onsight      Sport   \n",
       "4    2022-03-19              Like A Turtle    Lead      Flash      Sport   \n",
       "5    2022-03-19            Two Women Alone    Lead    Onsight      Sport   \n",
       "..          ...                        ...     ...        ...        ...   \n",
       "361  2017-08-27                  Biohazard      TR                  Trad   \n",
       "362  2017-08-26                 Team Jesus      TR                  Trad   \n",
       "363  2017-08-26            New River Gunks  Follow              Trad, TR   \n",
       "364  2017-04-02                 Surly Girl                            TR   \n",
       "365  2015-07-03              Easily Flakey      TR              Trad, TR   \n",
       "\n",
       "0    Grade Subgrade  Year  \n",
       "1       12        a  2022  \n",
       "2       12        a  2022  \n",
       "3       10        b  2022  \n",
       "4       11        b  2022  \n",
       "5       11        a  2022  \n",
       "..     ...      ...   ...  \n",
       "361     10        a  2017  \n",
       "362     10        a  2017  \n",
       "363      7        +  2017  \n",
       "364      8     None  2017  \n",
       "365      7     None  2015  \n",
       "\n",
       "[365 rows x 8 columns]"
      ]
     },
     "execution_count": 103,
     "metadata": {},
     "output_type": "execute_result"
    }
   ],
   "source": [
    "df"
   ]
  },
  {
   "cell_type": "code",
   "execution_count": 163,
   "metadata": {},
   "outputs": [],
   "source": [
    "# Read in the data from mountain project\n",
    "df = pd.DataFrame(csv.reader(requests.get(TICK_URL).text.splitlines()))\n",
    "\n",
    "# Set the first line as the header\n",
    "df = df.set_axis(df.iloc[0], axis=1).iloc[1:]                \n",
    "\n",
    "# Tweak the data\n",
    "df = (df\n",
    "      .assign(**{'Grade': df['Rating'].apply(get_grade)})                                 # Get the number grade (e.g. 11)\n",
    "      .assign(**{'Subgrade': df['Rating'].apply(get_subgrade)})                           # Get the letter grade (e.g. a)\n",
    "      .assign(**{'Date': pd.to_datetime(df['Date'])})                                     # Get the year of the send\n",
    "      .assign(**{'Style': df['Style'].str.lower()})                                       # Change values to lowercase     \n",
    "      .assign(**{'Lead Style': df['Lead Style'].str.lower()})                             # Change values to lowercase\n",
    "      .assign(**{'Route Type': df['Route Type'].str.lower()})                             # Change values to lowercase \n",
    "      [['Date', 'Route', 'Style', 'Lead Style', 'Route Type', 'Grade', 'Subgrade']])      # Keep only certain columns"
   ]
  },
  {
   "cell_type": "code",
   "execution_count": 164,
   "metadata": {},
   "outputs": [
    {
     "data": {
      "text/html": [
       "<div>\n",
       "<style scoped>\n",
       "    .dataframe tbody tr th:only-of-type {\n",
       "        vertical-align: middle;\n",
       "    }\n",
       "\n",
       "    .dataframe tbody tr th {\n",
       "        vertical-align: top;\n",
       "    }\n",
       "\n",
       "    .dataframe thead th {\n",
       "        text-align: right;\n",
       "    }\n",
       "</style>\n",
       "<table border=\"1\" class=\"dataframe\">\n",
       "  <thead>\n",
       "    <tr style=\"text-align: right;\">\n",
       "      <th></th>\n",
       "      <th>Date</th>\n",
       "      <th>Route</th>\n",
       "      <th>Style</th>\n",
       "      <th>Lead Style</th>\n",
       "      <th>Route Type</th>\n",
       "      <th>Grade</th>\n",
       "      <th>Subgrade</th>\n",
       "    </tr>\n",
       "  </thead>\n",
       "  <tbody>\n",
       "    <tr>\n",
       "      <th>1</th>\n",
       "      <td>2022-03-20</td>\n",
       "      <td>A Cat Amongst the Pigeons</td>\n",
       "      <td>lead</td>\n",
       "      <td>redpoint</td>\n",
       "      <td>sport</td>\n",
       "      <td>12</td>\n",
       "      <td>a</td>\n",
       "    </tr>\n",
       "    <tr>\n",
       "      <th>2</th>\n",
       "      <td>2022-03-20</td>\n",
       "      <td>A Cat Amongst the Pigeons</td>\n",
       "      <td>lead</td>\n",
       "      <td>fell/hung</td>\n",
       "      <td>sport</td>\n",
       "      <td>12</td>\n",
       "      <td>a</td>\n",
       "    </tr>\n",
       "    <tr>\n",
       "      <th>3</th>\n",
       "      <td>2022-03-20</td>\n",
       "      <td>Tourist Attractions</td>\n",
       "      <td>lead</td>\n",
       "      <td>onsight</td>\n",
       "      <td>sport</td>\n",
       "      <td>10</td>\n",
       "      <td>b</td>\n",
       "    </tr>\n",
       "    <tr>\n",
       "      <th>4</th>\n",
       "      <td>2022-03-19</td>\n",
       "      <td>Like A Turtle</td>\n",
       "      <td>lead</td>\n",
       "      <td>flash</td>\n",
       "      <td>sport</td>\n",
       "      <td>11</td>\n",
       "      <td>b</td>\n",
       "    </tr>\n",
       "    <tr>\n",
       "      <th>5</th>\n",
       "      <td>2022-03-19</td>\n",
       "      <td>Two Women Alone</td>\n",
       "      <td>lead</td>\n",
       "      <td>onsight</td>\n",
       "      <td>sport</td>\n",
       "      <td>11</td>\n",
       "      <td>a</td>\n",
       "    </tr>\n",
       "    <tr>\n",
       "      <th>...</th>\n",
       "      <td>...</td>\n",
       "      <td>...</td>\n",
       "      <td>...</td>\n",
       "      <td>...</td>\n",
       "      <td>...</td>\n",
       "      <td>...</td>\n",
       "      <td>...</td>\n",
       "    </tr>\n",
       "    <tr>\n",
       "      <th>361</th>\n",
       "      <td>2017-08-27</td>\n",
       "      <td>Biohazard</td>\n",
       "      <td>tr</td>\n",
       "      <td></td>\n",
       "      <td>trad</td>\n",
       "      <td>10</td>\n",
       "      <td>a</td>\n",
       "    </tr>\n",
       "    <tr>\n",
       "      <th>362</th>\n",
       "      <td>2017-08-26</td>\n",
       "      <td>Team Jesus</td>\n",
       "      <td>tr</td>\n",
       "      <td></td>\n",
       "      <td>trad</td>\n",
       "      <td>10</td>\n",
       "      <td>a</td>\n",
       "    </tr>\n",
       "    <tr>\n",
       "      <th>363</th>\n",
       "      <td>2017-08-26</td>\n",
       "      <td>New River Gunks</td>\n",
       "      <td>follow</td>\n",
       "      <td></td>\n",
       "      <td>trad, tr</td>\n",
       "      <td>7</td>\n",
       "      <td>+</td>\n",
       "    </tr>\n",
       "    <tr>\n",
       "      <th>364</th>\n",
       "      <td>2017-04-02</td>\n",
       "      <td>Surly Girl</td>\n",
       "      <td></td>\n",
       "      <td></td>\n",
       "      <td>tr</td>\n",
       "      <td>8</td>\n",
       "      <td>None</td>\n",
       "    </tr>\n",
       "    <tr>\n",
       "      <th>365</th>\n",
       "      <td>2015-07-03</td>\n",
       "      <td>Easily Flakey</td>\n",
       "      <td>tr</td>\n",
       "      <td></td>\n",
       "      <td>trad, tr</td>\n",
       "      <td>7</td>\n",
       "      <td>None</td>\n",
       "    </tr>\n",
       "  </tbody>\n",
       "</table>\n",
       "<p>365 rows × 7 columns</p>\n",
       "</div>"
      ],
      "text/plain": [
       "0         Date                      Route   Style Lead Style Route Type  \\\n",
       "1   2022-03-20  A Cat Amongst the Pigeons    lead   redpoint      sport   \n",
       "2   2022-03-20  A Cat Amongst the Pigeons    lead  fell/hung      sport   \n",
       "3   2022-03-20        Tourist Attractions    lead    onsight      sport   \n",
       "4   2022-03-19              Like A Turtle    lead      flash      sport   \n",
       "5   2022-03-19            Two Women Alone    lead    onsight      sport   \n",
       "..         ...                        ...     ...        ...        ...   \n",
       "361 2017-08-27                  Biohazard      tr                  trad   \n",
       "362 2017-08-26                 Team Jesus      tr                  trad   \n",
       "363 2017-08-26            New River Gunks  follow              trad, tr   \n",
       "364 2017-04-02                 Surly Girl                            tr   \n",
       "365 2015-07-03              Easily Flakey      tr              trad, tr   \n",
       "\n",
       "0    Grade Subgrade  \n",
       "1       12        a  \n",
       "2       12        a  \n",
       "3       10        b  \n",
       "4       11        b  \n",
       "5       11        a  \n",
       "..     ...      ...  \n",
       "361     10        a  \n",
       "362     10        a  \n",
       "363      7        +  \n",
       "364      8     None  \n",
       "365      7     None  \n",
       "\n",
       "[365 rows x 7 columns]"
      ]
     },
     "execution_count": 164,
     "metadata": {},
     "output_type": "execute_result"
    }
   ],
   "source": [
    "df"
   ]
  },
  {
   "cell_type": "code",
   "execution_count": 165,
   "metadata": {},
   "outputs": [],
   "source": [
    "def get_first_sends(df, route_type=None):\n",
    "    \"\"\"Get a list of all the first-time sends.\n",
    "\n",
    "    Parameters\n",
    "    ----------\n",
    "    df : DataFrame\n",
    "        DataFrame of ticks\n",
    "    route_type : str, optional\n",
    "        Must be 'Sport', 'Trad', 'TR'. Set to None to return all., by default None\n",
    "\n",
    "    Returns\n",
    "    -------\n",
    "    DataFrame\n",
    "        DataFrame of first-time sends.\n",
    "    \"\"\"\n",
    "    df = (df\n",
    "          [(df['Style'] == 'lead') & (~df['Lead Style'].isin(['fell/hung', '']))]\n",
    "          .drop_duplicates('Route')\n",
    "          .sort_values('Date'))\n",
    "\n",
    "    if route_type is not None:\n",
    "        df = df[df['Route Type'].str.contains(route_type, flags=re.IGNORECASE)]\n",
    "\n",
    "    return df\n"
   ]
  },
  {
   "cell_type": "code",
   "execution_count": 167,
   "metadata": {},
   "outputs": [
    {
     "data": {
      "text/html": [
       "<div>\n",
       "<style scoped>\n",
       "    .dataframe tbody tr th:only-of-type {\n",
       "        vertical-align: middle;\n",
       "    }\n",
       "\n",
       "    .dataframe tbody tr th {\n",
       "        vertical-align: top;\n",
       "    }\n",
       "\n",
       "    .dataframe thead th {\n",
       "        text-align: right;\n",
       "    }\n",
       "</style>\n",
       "<table border=\"1\" class=\"dataframe\">\n",
       "  <thead>\n",
       "    <tr style=\"text-align: right;\">\n",
       "      <th></th>\n",
       "      <th>Date</th>\n",
       "      <th>Route</th>\n",
       "      <th>Style</th>\n",
       "      <th>Lead Style</th>\n",
       "      <th>Route Type</th>\n",
       "      <th>Grade</th>\n",
       "      <th>Subgrade</th>\n",
       "    </tr>\n",
       "  </thead>\n",
       "  <tbody>\n",
       "    <tr>\n",
       "      <th>351</th>\n",
       "      <td>2018-04-14</td>\n",
       "      <td>The Upheaval</td>\n",
       "      <td>lead</td>\n",
       "      <td>flash</td>\n",
       "      <td>sport</td>\n",
       "      <td>9</td>\n",
       "      <td>None</td>\n",
       "    </tr>\n",
       "    <tr>\n",
       "      <th>350</th>\n",
       "      <td>2018-04-14</td>\n",
       "      <td>Strike A Scowl</td>\n",
       "      <td>lead</td>\n",
       "      <td>flash</td>\n",
       "      <td>sport</td>\n",
       "      <td>10</td>\n",
       "      <td>None</td>\n",
       "    </tr>\n",
       "    <tr>\n",
       "      <th>342</th>\n",
       "      <td>2018-05-12</td>\n",
       "      <td>The Offering</td>\n",
       "      <td>lead</td>\n",
       "      <td>onsight</td>\n",
       "      <td>sport</td>\n",
       "      <td>7</td>\n",
       "      <td>None</td>\n",
       "    </tr>\n",
       "    <tr>\n",
       "      <th>339</th>\n",
       "      <td>2018-05-12</td>\n",
       "      <td>Stay Off the Radio Jeff!</td>\n",
       "      <td>lead</td>\n",
       "      <td>redpoint</td>\n",
       "      <td>sport</td>\n",
       "      <td>9</td>\n",
       "      <td>+</td>\n",
       "    </tr>\n",
       "    <tr>\n",
       "      <th>343</th>\n",
       "      <td>2018-05-12</td>\n",
       "      <td>Bee's Business</td>\n",
       "      <td>lead</td>\n",
       "      <td>onsight</td>\n",
       "      <td>sport</td>\n",
       "      <td>8</td>\n",
       "      <td>None</td>\n",
       "    </tr>\n",
       "    <tr>\n",
       "      <th>...</th>\n",
       "      <td>...</td>\n",
       "      <td>...</td>\n",
       "      <td>...</td>\n",
       "      <td>...</td>\n",
       "      <td>...</td>\n",
       "      <td>...</td>\n",
       "      <td>...</td>\n",
       "    </tr>\n",
       "    <tr>\n",
       "      <th>6</th>\n",
       "      <td>2022-03-19</td>\n",
       "      <td>5.10 Until Lee and Jeff Do It</td>\n",
       "      <td>lead</td>\n",
       "      <td>flash</td>\n",
       "      <td>sport</td>\n",
       "      <td>9</td>\n",
       "      <td>+</td>\n",
       "    </tr>\n",
       "    <tr>\n",
       "      <th>5</th>\n",
       "      <td>2022-03-19</td>\n",
       "      <td>Two Women Alone</td>\n",
       "      <td>lead</td>\n",
       "      <td>onsight</td>\n",
       "      <td>sport</td>\n",
       "      <td>11</td>\n",
       "      <td>a</td>\n",
       "    </tr>\n",
       "    <tr>\n",
       "      <th>4</th>\n",
       "      <td>2022-03-19</td>\n",
       "      <td>Like A Turtle</td>\n",
       "      <td>lead</td>\n",
       "      <td>flash</td>\n",
       "      <td>sport</td>\n",
       "      <td>11</td>\n",
       "      <td>b</td>\n",
       "    </tr>\n",
       "    <tr>\n",
       "      <th>3</th>\n",
       "      <td>2022-03-20</td>\n",
       "      <td>Tourist Attractions</td>\n",
       "      <td>lead</td>\n",
       "      <td>onsight</td>\n",
       "      <td>sport</td>\n",
       "      <td>10</td>\n",
       "      <td>b</td>\n",
       "    </tr>\n",
       "    <tr>\n",
       "      <th>1</th>\n",
       "      <td>2022-03-20</td>\n",
       "      <td>A Cat Amongst the Pigeons</td>\n",
       "      <td>lead</td>\n",
       "      <td>redpoint</td>\n",
       "      <td>sport</td>\n",
       "      <td>12</td>\n",
       "      <td>a</td>\n",
       "    </tr>\n",
       "  </tbody>\n",
       "</table>\n",
       "<p>183 rows × 7 columns</p>\n",
       "</div>"
      ],
      "text/plain": [
       "0         Date                          Route Style Lead Style Route Type  \\\n",
       "351 2018-04-14                   The Upheaval  lead      flash      sport   \n",
       "350 2018-04-14                 Strike A Scowl  lead      flash      sport   \n",
       "342 2018-05-12                   The Offering  lead    onsight      sport   \n",
       "339 2018-05-12       Stay Off the Radio Jeff!  lead   redpoint      sport   \n",
       "343 2018-05-12                 Bee's Business  lead    onsight      sport   \n",
       "..         ...                            ...   ...        ...        ...   \n",
       "6   2022-03-19  5.10 Until Lee and Jeff Do It  lead      flash      sport   \n",
       "5   2022-03-19                Two Women Alone  lead    onsight      sport   \n",
       "4   2022-03-19                  Like A Turtle  lead      flash      sport   \n",
       "3   2022-03-20            Tourist Attractions  lead    onsight      sport   \n",
       "1   2022-03-20      A Cat Amongst the Pigeons  lead   redpoint      sport   \n",
       "\n",
       "0    Grade Subgrade  \n",
       "351      9     None  \n",
       "350     10     None  \n",
       "342      7     None  \n",
       "339      9        +  \n",
       "343      8     None  \n",
       "..     ...      ...  \n",
       "6        9        +  \n",
       "5       11        a  \n",
       "4       11        b  \n",
       "3       10        b  \n",
       "1       12        a  \n",
       "\n",
       "[183 rows x 7 columns]"
      ]
     },
     "execution_count": 167,
     "metadata": {},
     "output_type": "execute_result"
    }
   ],
   "source": [
    "get_first_sends(df, 'sport')"
   ]
  },
  {
   "cell_type": "code",
   "execution_count": 182,
   "metadata": {},
   "outputs": [],
   "source": [
    "def mpl_hist(df, route_type=None):\n",
    "    \"\"\"Returns a matplotlib figure of a histogram of route difficulties grouped by year.\n",
    "\n",
    "    Parameters\n",
    "    ----------\n",
    "    df : DataFrame\n",
    "        DataFrame of ticks\n",
    "\n",
    "    Returns\n",
    "    -------\n",
    "    Figure\n",
    "        Histogram of route difficulties grouped by year\n",
    "    \"\"\"\n",
    "    df = get_first_sends(df, route_type)\n",
    "    bins = list(range(df['Grade'].min(), df['Grade'].max()+2))\n",
    "\n",
    "    fig, ax = plt.subplots()\n",
    "    for year in df['Date'].dt.year.unique()[::-1]:\n",
    "        _ = df[df['Date'].dt.year==year].hist(column='Grade', bins=bins, ax=ax, label=year, alpha=0.75)\n",
    "\n",
    "    ax.legend()\n",
    "\n",
    "    return ax"
   ]
  },
  {
   "cell_type": "code",
   "execution_count": 184,
   "metadata": {},
   "outputs": [
    {
     "data": {
      "image/png": "[encoded data removed]",
      "text/plain": [
       "<Figure size 640x480 with 1 Axes>"
      ]
     },
     "metadata": {},
     "output_type": "display_data"
    }
   ],
   "source": [
    "ax = mpl_hist(df)"
   ]
  },
  {
   "cell_type": "code",
   "execution_count": 196,
   "metadata": {},
   "outputs": [],
   "source": [
    "def px_hist(df, route_type=None):\n",
    "    df = get_first_sends(df, route_type)\n",
    "    df['Year'] = df['Date'].dt.year\n",
    "    fig = (px.histogram(df,\n",
    "                        x='Grade',\n",
    "                        nbins=int(df['Grade'].max() - df['Grade'].min()),\n",
    "                        facet_row='Year',\n",
    "                        width=1000,\n",
    "                        height=1000,\n",
    "                        color='Year',\n",
    "                        range_x=[df['Grade'].min(), df['Grade'].max()],\n",
    "                        range_y=[0, df.groupby(['Year', 'Grade'])['Date'].count().max()])\n",
    "           .update_yaxes(title_text='Sends')\n",
    "           .for_each_annotation(lambda s:s.update(text=s.text.split('=')[-1])))\n",
    "\n",
    "    return fig"
   ]
  },
  {
   "cell_type": "code",
   "execution_count": 197,
   "metadata": {},
   "outputs": [
    {
     "data": {
      "application/vnd.plotly.v1+json": {
       "config": {
        "plotlyServerURL": "https://plot.ly"
       },
       "data": [
        {
         "alignmentgroup": "True",
         "bingroup": "x",
         "hovertemplate": "Year=2018<br>Grade=%{x}<br>count=%{y}<extra></extra>",
         "legendgroup": "2018",
         "marker": {
          "color": "#636efa",
          "pattern": {
           "shape": ""
          }
         },
         "name": "2018",
         "nbinsx": 10,
         "offsetgroup": "2018",
         "orientation": "v",
         "showlegend": true,
         "type": "histogram",
         "x": [
          9,
          10,
          7,
          9,
          8,
          8,
          6,
          9,
          10,
          9,
          9,
          10,
          7,
          7,
          6,
          6,
          8,
          3,
          7,
          7,
          10,
          10,
          5,
          7,
          9,
          8,
          8,
          8,
          6,
          7,
          7,
          8,
          8,
          2,
          3,
          7,
          4,
          10,
          9,
          10,
          8,
          7,
          8,
          7,
          6,
          7,
          9,
          10,
          8,
          8
         ],
         "xaxis": "x5",
         "yaxis": "y5"
        },
        {
         "alignmentgroup": "True",
         "bingroup": "x",
         "hovertemplate": "Year=2019<br>Grade=%{x}<br>count=%{y}<extra></extra>",
         "legendgroup": "2019",
         "marker": {
          "color": "#EF553B",
          "pattern": {
           "shape": ""
          }
         },
         "name": "2019",
         "nbinsx": 10,
         "offsetgroup": "2019",
         "orientation": "v",
         "showlegend": true,
         "type": "histogram",
         "x": [
          8,
          8,
          8,
          10,
          8,
          8,
          7,
          8,
          8,
          10,
          9,
          8,
          11,
          10,
          10,
          8,
          7,
          7,
          8,
          9,
          9,
          9,
          10,
          10,
          8,
          9,
          8,
          8,
          10,
          8,
          10,
          10,
          8,
          7,
          10,
          11,
          12,
          10,
          11,
          10,
          9,
          10,
          10,
          10,
          9,
          8,
          9,
          10,
          7,
          10,
          9,
          10,
          9,
          6,
          6,
          8,
          8,
          7,
          7,
          10,
          8,
          10,
          11,
          7,
          11,
          9,
          6,
          6,
          7,
          10,
          6,
          10,
          8,
          6,
          7,
          7,
          10,
          7,
          9,
          10,
          11,
          8,
          11,
          11
         ],
         "xaxis": "x4",
         "yaxis": "y4"
        },
        {
         "alignmentgroup": "True",
         "bingroup": "x",
         "hovertemplate": "Year=2020<br>Grade=%{x}<br>count=%{y}<extra></extra>",
         "legendgroup": "2020",
         "marker": {
          "color": "#00cc96",
          "pattern": {
           "shape": ""
          }
         },
         "name": "2020",
         "nbinsx": 10,
         "offsetgroup": "2020",
         "orientation": "v",
         "showlegend": true,
         "type": "histogram",
         "x": [
          9,
          10,
          9,
          9,
          9,
          10,
          9,
          9,
          9,
          9,
          8,
          11,
          10,
          10,
          8,
          9,
          10,
          8,
          7,
          11,
          10,
          9,
          10,
          10,
          11,
          6,
          7,
          8,
          9
         ],
         "xaxis": "x3",
         "yaxis": "y3"
        },
        {
         "alignmentgroup": "True",
         "bingroup": "x",
         "hovertemplate": "Year=2021<br>Grade=%{x}<br>count=%{y}<extra></extra>",
         "legendgroup": "2021",
         "marker": {
          "color": "#ab63fa",
          "pattern": {
           "shape": ""
          }
         },
         "name": "2021",
         "nbinsx": 10,
         "offsetgroup": "2021",
         "orientation": "v",
         "showlegend": true,
         "type": "histogram",
         "x": [
          6,
          7,
          7,
          10,
          8,
          9,
          10,
          8,
          10,
          9,
          11,
          10,
          9,
          11,
          9,
          9,
          7,
          9,
          7,
          8,
          8,
          10,
          10,
          9,
          9,
          10,
          10,
          9,
          10,
          10,
          11,
          10,
          11,
          10,
          11,
          11,
          11,
          11,
          3,
          4,
          6,
          6,
          11,
          10,
          10,
          11,
          11
         ],
         "xaxis": "x2",
         "yaxis": "y2"
        },
        {
         "alignmentgroup": "True",
         "bingroup": "x",
         "hovertemplate": "Year=2022<br>Grade=%{x}<br>count=%{y}<extra></extra>",
         "legendgroup": "2022",
         "marker": {
          "color": "#FFA15A",
          "pattern": {
           "shape": ""
          }
         },
         "name": "2022",
         "nbinsx": 10,
         "offsetgroup": "2022",
         "orientation": "v",
         "showlegend": true,
         "type": "histogram",
         "x": [
          10,
          9,
          10,
          10,
          10,
          9,
          11,
          11,
          10,
          12
         ],
         "xaxis": "x",
         "yaxis": "y"
        }
       ],
       "layout": {
        "annotations": [
         {
          "font": {},
          "showarrow": false,
          "text": "2022",
          "textangle": 90,
          "x": 0.98,
          "xanchor": "left",
          "xref": "paper",
          "y": 0.08800000000000001,
          "yanchor": "middle",
          "yref": "paper"
         },
         {
          "font": {},
          "showarrow": false,
          "text": "2021",
          "textangle": 90,
          "x": 0.98,
          "xanchor": "left",
          "xref": "paper",
          "y": 0.29400000000000004,
          "yanchor": "middle",
          "yref": "paper"
         },
         {
          "font": {},
          "showarrow": false,
          "text": "2020",
          "textangle": 90,
          "x": 0.98,
          "xanchor": "left",
          "xref": "paper",
          "y": 0.5,
          "yanchor": "middle",
          "yref": "paper"
         },
         {
          "font": {},
          "showarrow": false,
          "text": "2019",
          "textangle": 90,
          "x": 0.98,
          "xanchor": "left",
          "xref": "paper",
          "y": 0.706,
          "yanchor": "middle",
          "yref": "paper"
         },
         {
          "font": {},
          "showarrow": false,
          "text": "2018",
          "textangle": 90,
          "x": 0.98,
          "xanchor": "left",
          "xref": "paper",
          "y": 0.912,
          "yanchor": "middle",
          "yref": "paper"
         }
        ],
        "barmode": "relative",
        "height": 1000,
        "legend": {
         "title": {
          "text": "Year"
         },
         "tracegroupgap": 0
        },
        "margin": {
         "t": 60
        },
        "template": {
         "data": {
          "bar": [
           {
            "error_x": {
             "color": "#2a3f5f"
            },
            "error_y": {
             "color": "#2a3f5f"
            },
            "marker": {
             "line": {
              "color": "#E5ECF6",
              "width": 0.5
             },
             "pattern": {
              "fillmode": "overlay",
              "size": 10,
              "solidity": 0.2
             }
            },
            "type": "bar"
           }
          ],
          "barpolar": [
           {
            "marker": {
             "line": {
              "color": "#E5ECF6",
              "width": 0.5
             },
             "pattern": {
              "fillmode": "overlay",
              "size": 10,
              "solidity": 0.2
             }
            },
            "type": "barpolar"
           }
          ],
          "carpet": [
           {
            "aaxis": {
             "endlinecolor": "#2a3f5f",
             "gridcolor": "white",
             "linecolor": "white",
             "minorgridcolor": "white",
             "startlinecolor": "#2a3f5f"
            },
            "baxis": {
             "endlinecolor": "#2a3f5f",
             "gridcolor": "white",
             "linecolor": "white",
             "minorgridcolor": "white",
             "startlinecolor": "#2a3f5f"
            },
            "type": "carpet"
           }
          ],
          "choropleth": [
           {
            "colorbar": {
             "outlinewidth": 0,
             "ticks": ""
            },
            "type": "choropleth"
           }
          ],
          "contour": [
           {
            "colorbar": {
             "outlinewidth": 0,
             "ticks": ""
            },
            "colorscale": [
             [
              0,
              "#0d0887"
             ],
             [
              0.1111111111111111,
              "#46039f"
             ],
             [
              0.2222222222222222,
              "#7201a8"
             ],
             [
              0.3333333333333333,
              "#9c179e"
             ],
             [
              0.4444444444444444,
              "#bd3786"
             ],
             [
              0.5555555555555556,
              "#d8576b"
             ],
             [
              0.6666666666666666,
              "#ed7953"
             ],
             [
              0.7777777777777778,
              "#fb9f3a"
             ],
             [
              0.8888888888888888,
              "#fdca26"
             ],
             [
              1,
              "#f0f921"
             ]
            ],
            "type": "contour"
           }
          ],
          "contourcarpet": [
           {
            "colorbar": {
             "outlinewidth": 0,
             "ticks": ""
            },
            "type": "contourcarpet"
           }
          ],
          "heatmap": [
           {
            "colorbar": {
             "outlinewidth": 0,
             "ticks": ""
            },
            "colorscale": [
             [
              0,
              "#0d0887"
             ],
             [
              0.1111111111111111,
              "#46039f"
             ],
             [
              0.2222222222222222,
              "#7201a8"
             ],
             [
              0.3333333333333333,
              "#9c179e"
             ],
             [
              0.4444444444444444,
              "#bd3786"
             ],
             [
              0.5555555555555556,
              "#d8576b"
             ],
             [
              0.6666666666666666,
              "#ed7953"
             ],
             [
              0.7777777777777778,
              "#fb9f3a"
             ],
             [
              0.8888888888888888,
              "#fdca26"
             ],
             [
              1,
              "#f0f921"
             ]
            ],
            "type": "heatmap"
           }
          ],
          "heatmapgl": [
           {
            "colorbar": {
             "outlinewidth": 0,
             "ticks": ""
            },
            "colorscale": [
             [
              0,
              "#0d0887"
             ],
             [
              0.1111111111111111,
              "#46039f"
             ],
             [
              0.2222222222222222,
              "#7201a8"
             ],
             [
              0.3333333333333333,
              "#9c179e"
             ],
             [
              0.4444444444444444,
              "#bd3786"
             ],
             [
              0.5555555555555556,
              "#d8576b"
             ],
             [
              0.6666666666666666,
              "#ed7953"
             ],
             [
              0.7777777777777778,
              "#fb9f3a"
             ],
             [
              0.8888888888888888,
              "#fdca26"
             ],
             [
              1,
              "#f0f921"
             ]
            ],
            "type": "heatmapgl"
           }
          ],
          "histogram": [
           {
            "marker": {
             "pattern": {
              "fillmode": "overlay",
              "size": 10,
              "solidity": 0.2
             }
            },
            "type": "histogram"
           }
          ],
          "histogram2d": [
           {
            "colorbar": {
             "outlinewidth": 0,
             "ticks": ""
            },
            "colorscale": [
             [
              0,
              "#0d0887"
             ],
             [
              0.1111111111111111,
              "#46039f"
             ],
             [
              0.2222222222222222,
              "#7201a8"
             ],
             [
              0.3333333333333333,
              "#9c179e"
             ],
             [
              0.4444444444444444,
              "#bd3786"
             ],
             [
              0.5555555555555556,
              "#d8576b"
             ],
             [
              0.6666666666666666,
              "#ed7953"
             ],
             [
              0.7777777777777778,
              "#fb9f3a"
             ],
             [
              0.8888888888888888,
              "#fdca26"
             ],
             [
              1,
              "#f0f921"
             ]
            ],
            "type": "histogram2d"
           }
          ],
          "histogram2dcontour": [
           {
            "colorbar": {
             "outlinewidth": 0,
             "ticks": ""
            },
            "colorscale": [
             [
              0,
              "#0d0887"
             ],
             [
              0.1111111111111111,
              "#46039f"
             ],
             [
              0.2222222222222222,
              "#7201a8"
             ],
             [
              0.3333333333333333,
              "#9c179e"
             ],
             [
              0.4444444444444444,
              "#bd3786"
             ],
             [
              0.5555555555555556,
              "#d8576b"
             ],
             [
              0.6666666666666666,
              "#ed7953"
             ],
             [
              0.7777777777777778,
              "#fb9f3a"
             ],
             [
              0.8888888888888888,
              "#fdca26"
             ],
             [
              1,
              "#f0f921"
             ]
            ],
            "type": "histogram2dcontour"
           }
          ],
          "mesh3d": [
           {
            "colorbar": {
             "outlinewidth": 0,
             "ticks": ""
            },
            "type": "mesh3d"
           }
          ],
          "parcoords": [
           {
            "line": {
             "colorbar": {
              "outlinewidth": 0,
              "ticks": ""
             }
            },
            "type": "parcoords"
           }
          ],
          "pie": [
           {
            "automargin": true,
            "type": "pie"
           }
          ],
          "scatter": [
           {
            "marker": {
             "colorbar": {
              "outlinewidth": 0,
              "ticks": ""
             }
            },
            "type": "scatter"
           }
          ],
          "scatter3d": [
           {
            "line": {
             "colorbar": {
              "outlinewidth": 0,
              "ticks": ""
             }
            },
            "marker": {
             "colorbar": {
              "outlinewidth": 0,
              "ticks": ""
             }
            },
            "type": "scatter3d"
           }
          ],
          "scattercarpet": [
           {
            "marker": {
             "colorbar": {
              "outlinewidth": 0,
              "ticks": ""
             }
            },
            "type": "scattercarpet"
           }
          ],
          "scattergeo": [
           {
            "marker": {
             "colorbar": {
              "outlinewidth": 0,
              "ticks": ""
             }
            },
            "type": "scattergeo"
           }
          ],
          "scattergl": [
           {
            "marker": {
             "colorbar": {
              "outlinewidth": 0,
              "ticks": ""
             }
            },
            "type": "scattergl"
           }
          ],
          "scattermapbox": [
           {
            "marker": {
             "colorbar": {
              "outlinewidth": 0,
              "ticks": ""
             }
            },
            "type": "scattermapbox"
           }
          ],
          "scatterpolar": [
           {
            "marker": {
             "colorbar": {
              "outlinewidth": 0,
              "ticks": ""
             }
            },
            "type": "scatterpolar"
           }
          ],
          "scatterpolargl": [
           {
            "marker": {
             "colorbar": {
              "outlinewidth": 0,
              "ticks": ""
             }
            },
            "type": "scatterpolargl"
           }
          ],
          "scatterternary": [
           {
            "marker": {
             "colorbar": {
              "outlinewidth": 0,
              "ticks": ""
             }
            },
            "type": "scatterternary"
           }
          ],
          "surface": [
           {
            "colorbar": {
             "outlinewidth": 0,
             "ticks": ""
            },
            "colorscale": [
             [
              0,
              "#0d0887"
             ],
             [
              0.1111111111111111,
              "#46039f"
             ],
             [
              0.2222222222222222,
              "#7201a8"
             ],
             [
              0.3333333333333333,
              "#9c179e"
             ],
             [
              0.4444444444444444,
              "#bd3786"
             ],
             [
              0.5555555555555556,
              "#d8576b"
             ],
             [
              0.6666666666666666,
              "#ed7953"
             ],
             [
              0.7777777777777778,
              "#fb9f3a"
             ],
             [
              0.8888888888888888,
              "#fdca26"
             ],
             [
              1,
              "#f0f921"
             ]
            ],
            "type": "surface"
           }
          ],
          "table": [
           {
            "cells": {
             "fill": {
              "color": "#EBF0F8"
             },
             "line": {
              "color": "white"
             }
            },
            "header": {
             "fill": {
              "color": "#C8D4E3"
             },
             "line": {
              "color": "white"
             }
            },
            "type": "table"
           }
          ]
         },
         "layout": {
          "annotationdefaults": {
           "arrowcolor": "#2a3f5f",
           "arrowhead": 0,
           "arrowwidth": 1
          },
          "autotypenumbers": "strict",
          "coloraxis": {
           "colorbar": {
            "outlinewidth": 0,
            "ticks": ""
           }
          },
          "colorscale": {
           "diverging": [
            [
             0,
             "#8e0152"
            ],
            [
             0.1,
             "#c51b7d"
            ],
            [
             0.2,
             "#de77ae"
            ],
            [
             0.3,
             "#f1b6da"
            ],
            [
             0.4,
             "#fde0ef"
            ],
            [
             0.5,
             "#f7f7f7"
            ],
            [
             0.6,
             "#e6f5d0"
            ],
            [
             0.7,
             "#b8e186"
            ],
            [
             0.8,
             "#7fbc41"
            ],
            [
             0.9,
             "#4d9221"
            ],
            [
             1,
             "#276419"
            ]
           ],
           "sequential": [
            [
             0,
             "#0d0887"
            ],
            [
             0.1111111111111111,
             "#46039f"
            ],
            [
             0.2222222222222222,
             "#7201a8"
            ],
            [
             0.3333333333333333,
             "#9c179e"
            ],
            [
             0.4444444444444444,
             "#bd3786"
            ],
            [
             0.5555555555555556,
             "#d8576b"
            ],
            [
             0.6666666666666666,
             "#ed7953"
            ],
            [
             0.7777777777777778,
             "#fb9f3a"
            ],
            [
             0.8888888888888888,
             "#fdca26"
            ],
            [
             1,
             "#f0f921"
            ]
           ],
           "sequentialminus": [
            [
             0,
             "#0d0887"
            ],
            [
             0.1111111111111111,
             "#46039f"
            ],
            [
             0.2222222222222222,
             "#7201a8"
            ],
            [
             0.3333333333333333,
             "#9c179e"
            ],
            [
             0.4444444444444444,
             "#bd3786"
            ],
            [
             0.5555555555555556,
             "#d8576b"
            ],
            [
             0.6666666666666666,
             "#ed7953"
            ],
            [
             0.7777777777777778,
             "#fb9f3a"
            ],
            [
             0.8888888888888888,
             "#fdca26"
            ],
            [
             1,
             "#f0f921"
            ]
           ]
          },
          "colorway": [
           "#636efa",
           "#EF553B",
           "#00cc96",
           "#ab63fa",
           "#FFA15A",
           "#19d3f3",
           "#FF6692",
           "#B6E880",
           "#FF97FF",
           "#FECB52"
          ],
          "font": {
           "color": "#2a3f5f"
          },
          "geo": {
           "bgcolor": "white",
           "lakecolor": "white",
           "landcolor": "#E5ECF6",
           "showlakes": true,
           "showland": true,
           "subunitcolor": "white"
          },
          "hoverlabel": {
           "align": "left"
          },
          "hovermode": "closest",
          "mapbox": {
           "style": "light"
          },
          "paper_bgcolor": "white",
          "plot_bgcolor": "#E5ECF6",
          "polar": {
           "angularaxis": {
            "gridcolor": "white",
            "linecolor": "white",
            "ticks": ""
           },
           "bgcolor": "#E5ECF6",
           "radialaxis": {
            "gridcolor": "white",
            "linecolor": "white",
            "ticks": ""
           }
          },
          "scene": {
           "xaxis": {
            "backgroundcolor": "#E5ECF6",
            "gridcolor": "white",
            "gridwidth": 2,
            "linecolor": "white",
            "showbackground": true,
            "ticks": "",
            "zerolinecolor": "white"
           },
           "yaxis": {
            "backgroundcolor": "#E5ECF6",
            "gridcolor": "white",
            "gridwidth": 2,
            "linecolor": "white",
            "showbackground": true,
            "ticks": "",
            "zerolinecolor": "white"
           },
           "zaxis": {
            "backgroundcolor": "#E5ECF6",
            "gridcolor": "white",
            "gridwidth": 2,
            "linecolor": "white",
            "showbackground": true,
            "ticks": "",
            "zerolinecolor": "white"
           }
          },
          "shapedefaults": {
           "line": {
            "color": "#2a3f5f"
           }
          },
          "ternary": {
           "aaxis": {
            "gridcolor": "white",
            "linecolor": "white",
            "ticks": ""
           },
           "baxis": {
            "gridcolor": "white",
            "linecolor": "white",
            "ticks": ""
           },
           "bgcolor": "#E5ECF6",
           "caxis": {
            "gridcolor": "white",
            "linecolor": "white",
            "ticks": ""
           }
          },
          "title": {
           "x": 0.05
          },
          "xaxis": {
           "automargin": true,
           "gridcolor": "white",
           "linecolor": "white",
           "ticks": "",
           "title": {
            "standoff": 15
           },
           "zerolinecolor": "white",
           "zerolinewidth": 2
          },
          "yaxis": {
           "automargin": true,
           "gridcolor": "white",
           "linecolor": "white",
           "ticks": "",
           "title": {
            "standoff": 15
           },
           "zerolinecolor": "white",
           "zerolinewidth": 2
          }
         }
        },
        "width": 1000,
        "xaxis": {
         "anchor": "y",
         "domain": [
          0,
          0.98
         ],
         "range": [
          2,
          12
         ],
         "title": {
          "text": "Grade"
         }
        },
        "xaxis2": {
         "anchor": "y2",
         "domain": [
          0,
          0.98
         ],
         "matches": "x",
         "showticklabels": false
        },
        "xaxis3": {
         "anchor": "y3",
         "domain": [
          0,
          0.98
         ],
         "matches": "x",
         "showticklabels": false
        },
        "xaxis4": {
         "anchor": "y4",
         "domain": [
          0,
          0.98
         ],
         "matches": "x",
         "showticklabels": false
        },
        "xaxis5": {
         "anchor": "y5",
         "domain": [
          0,
          0.98
         ],
         "matches": "x",
         "showticklabels": false
        },
        "yaxis": {
         "anchor": "x",
         "domain": [
          0,
          0.17600000000000002
         ],
         "range": [
          0,
          24
         ],
         "title": {
          "text": "Sends"
         }
        },
        "yaxis2": {
         "anchor": "x2",
         "domain": [
          0.20600000000000002,
          0.382
         ],
         "matches": "y",
         "range": [
          0,
          24
         ],
         "title": {
          "text": "Sends"
         }
        },
        "yaxis3": {
         "anchor": "x3",
         "domain": [
          0.41200000000000003,
          0.5880000000000001
         ],
         "matches": "y",
         "range": [
          0,
          24
         ],
         "title": {
          "text": "Sends"
         }
        },
        "yaxis4": {
         "anchor": "x4",
         "domain": [
          0.618,
          0.794
         ],
         "matches": "y",
         "range": [
          0,
          24
         ],
         "title": {
          "text": "Sends"
         }
        },
        "yaxis5": {
         "anchor": "x5",
         "domain": [
          0.8240000000000001,
          1
         ],
         "matches": "y",
         "range": [
          0,
          24
         ],
         "title": {
          "text": "Sends"
         }
        }
       }
      }
     },
     "metadata": {},
     "output_type": "display_data"
    }
   ],
   "source": [
    "px_hist(df)"
   ]
  }
 ],
 "metadata": {
  "interpreter": {
   "hash": "aa62ed50d0bbdaa90f43d3b6fa12740edf9ab91741d1c7190398808a1e4fc5d4"
  },
  "kernelspec": {
   "display_name": "Python 3.10.0 64-bit",
   "language": "python",
   "name": "python3"
  },
  "language_info": {
   "codemirror_mode": {
    "name": "ipython",
    "version": 3
   },
   "file_extension": ".py",
   "mimetype": "text/x-python",
   "name": "python",
   "nbconvert_exporter": "python",
   "pygments_lexer": "ipython3",
   "version": "3.10.0"
  },
  "orig_nbformat": 4
 },
 "nbformat": 4,
 "nbformat_minor": 2
}
