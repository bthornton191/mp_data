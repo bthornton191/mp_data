{
 "cells": [
  {
   "cell_type": "code",
   "execution_count": 10,
   "metadata": {},
   "outputs": [],
   "source": [
    "from pathlib import Path\n",
    "import re\n",
    "import csv\n",
    "\n",
    "import requests\n",
    "import pandas as pd\n",
    "import plotly.express as px\n"
   ]
  },
  {
   "cell_type": "code",
   "execution_count": 11,
   "metadata": {},
   "outputs": [],
   "source": [
    "from mp_data import get_grade, get_subgrade, get_first_sends\n",
    "from mp_data import mpl_hist, px_hist\n"
   ]
  },
  {
   "cell_type": "code",
   "execution_count": 12,
   "metadata": {},
   "outputs": [],
   "source": [
    "BEN_THORNTON_URL = 'https://www.mountainproject.com/user/112795239/ben-thornton/tick-export'\n"
   ]
  },
  {
   "cell_type": "code",
   "execution_count": 13,
   "metadata": {},
   "outputs": [],
   "source": [
    "# Read in the data from mountain project\n",
    "df = pd.DataFrame(csv.reader(requests.get(BEN_THORNTON_URL).text.splitlines()))\n",
    "\n",
    "# Set the first line as the header\n",
    "df = df.set_axis(df.iloc[0], axis=1).iloc[1:]                \n",
    "\n",
    "# Tweak the data\n",
    "df = (df\n",
    "      .assign(**{'Grade': df['Rating'].apply(get_grade)})                                 # Get the number grade (e.g. 11)\n",
    "      .assign(**{'Subgrade': df['Rating'].apply(get_subgrade)})                           # Get the letter grade (e.g. a)\n",
    "      .assign(**{'Date': pd.to_datetime(df['Date'])})                                     # Get the year of the send\n",
    "      .assign(**{'Style': df['Style'].str.lower()})                                       # Change values to lowercase     \n",
    "      .assign(**{'Lead Style': df['Lead Style'].str.lower()})                             # Change values to lowercase\n",
    "      .assign(**{'Route Type': df['Route Type'].str.lower()})                             # Change values to lowercase \n",
    "      [['Date', 'Route', 'Style', 'Lead Style', 'Route Type', 'Grade', 'Subgrade']])      # Keep only certain columns\n"
   ]
  },
  {
   "cell_type": "code",
   "execution_count": 5,
   "metadata": {},
   "outputs": [
    {
     "data": {
      "text/html": [
       "<div>\n",
       "<style scoped>\n",
       "    .dataframe tbody tr th:only-of-type {\n",
       "        vertical-align: middle;\n",
       "    }\n",
       "\n",
       "    .dataframe tbody tr th {\n",
       "        vertical-align: top;\n",
       "    }\n",
       "\n",
       "    .dataframe thead th {\n",
       "        text-align: right;\n",
       "    }\n",
       "</style>\n",
       "<table border=\"1\" class=\"dataframe\">\n",
       "  <thead>\n",
       "    <tr style=\"text-align: right;\">\n",
       "      <th></th>\n",
       "      <th>Date</th>\n",
       "      <th>Route</th>\n",
       "      <th>Style</th>\n",
       "      <th>Lead Style</th>\n",
       "      <th>Route Type</th>\n",
       "      <th>Grade</th>\n",
       "      <th>Subgrade</th>\n",
       "    </tr>\n",
       "  </thead>\n",
       "  <tbody>\n",
       "    <tr>\n",
       "      <th>1</th>\n",
       "      <td>2023-11-22</td>\n",
       "      <td>Cell Block Six</td>\n",
       "      <td>lead</td>\n",
       "      <td>fell/hung</td>\n",
       "      <td>sport</td>\n",
       "      <td>12</td>\n",
       "      <td>c</td>\n",
       "    </tr>\n",
       "    <tr>\n",
       "      <th>2</th>\n",
       "      <td>2023-11-22</td>\n",
       "      <td>Cell Block Six</td>\n",
       "      <td>lead</td>\n",
       "      <td>fell/hung</td>\n",
       "      <td>sport</td>\n",
       "      <td>12</td>\n",
       "      <td>c</td>\n",
       "    </tr>\n",
       "    <tr>\n",
       "      <th>3</th>\n",
       "      <td>2023-11-22</td>\n",
       "      <td>Cell Block Six</td>\n",
       "      <td>lead</td>\n",
       "      <td>fell/hung</td>\n",
       "      <td>sport</td>\n",
       "      <td>12</td>\n",
       "      <td>c</td>\n",
       "    </tr>\n",
       "    <tr>\n",
       "      <th>4</th>\n",
       "      <td>2023-11-19</td>\n",
       "      <td>Cell Block Six</td>\n",
       "      <td>lead</td>\n",
       "      <td>fell/hung</td>\n",
       "      <td>sport</td>\n",
       "      <td>12</td>\n",
       "      <td>c</td>\n",
       "    </tr>\n",
       "    <tr>\n",
       "      <th>5</th>\n",
       "      <td>2023-11-19</td>\n",
       "      <td>Cell Block Six</td>\n",
       "      <td>lead</td>\n",
       "      <td>fell/hung</td>\n",
       "      <td>sport</td>\n",
       "      <td>12</td>\n",
       "      <td>c</td>\n",
       "    </tr>\n",
       "    <tr>\n",
       "      <th>...</th>\n",
       "      <td>...</td>\n",
       "      <td>...</td>\n",
       "      <td>...</td>\n",
       "      <td>...</td>\n",
       "      <td>...</td>\n",
       "      <td>...</td>\n",
       "      <td>...</td>\n",
       "    </tr>\n",
       "    <tr>\n",
       "      <th>547</th>\n",
       "      <td>2017-08-27</td>\n",
       "      <td>Biohazard</td>\n",
       "      <td>tr</td>\n",
       "      <td></td>\n",
       "      <td>trad</td>\n",
       "      <td>10</td>\n",
       "      <td>a</td>\n",
       "    </tr>\n",
       "    <tr>\n",
       "      <th>548</th>\n",
       "      <td>2017-08-26</td>\n",
       "      <td>Team Jesus</td>\n",
       "      <td>tr</td>\n",
       "      <td></td>\n",
       "      <td>trad</td>\n",
       "      <td>10</td>\n",
       "      <td>a</td>\n",
       "    </tr>\n",
       "    <tr>\n",
       "      <th>549</th>\n",
       "      <td>2017-08-26</td>\n",
       "      <td>New River Gunks</td>\n",
       "      <td>follow</td>\n",
       "      <td></td>\n",
       "      <td>trad, tr</td>\n",
       "      <td>7</td>\n",
       "      <td>+</td>\n",
       "    </tr>\n",
       "    <tr>\n",
       "      <th>550</th>\n",
       "      <td>2017-04-02</td>\n",
       "      <td>Surly Girl</td>\n",
       "      <td></td>\n",
       "      <td></td>\n",
       "      <td>tr</td>\n",
       "      <td>8</td>\n",
       "      <td>None</td>\n",
       "    </tr>\n",
       "    <tr>\n",
       "      <th>551</th>\n",
       "      <td>2015-07-03</td>\n",
       "      <td>Easily Flakey</td>\n",
       "      <td>tr</td>\n",
       "      <td></td>\n",
       "      <td>trad, tr</td>\n",
       "      <td>7</td>\n",
       "      <td>None</td>\n",
       "    </tr>\n",
       "  </tbody>\n",
       "</table>\n",
       "<p>551 rows × 7 columns</p>\n",
       "</div>"
      ],
      "text/plain": [
       "0         Date            Route   Style Lead Style Route Type  Grade Subgrade\n",
       "1   2023-11-22   Cell Block Six    lead  fell/hung      sport     12        c\n",
       "2   2023-11-22   Cell Block Six    lead  fell/hung      sport     12        c\n",
       "3   2023-11-22   Cell Block Six    lead  fell/hung      sport     12        c\n",
       "4   2023-11-19   Cell Block Six    lead  fell/hung      sport     12        c\n",
       "5   2023-11-19   Cell Block Six    lead  fell/hung      sport     12        c\n",
       "..         ...              ...     ...        ...        ...    ...      ...\n",
       "547 2017-08-27        Biohazard      tr                  trad     10        a\n",
       "548 2017-08-26       Team Jesus      tr                  trad     10        a\n",
       "549 2017-08-26  New River Gunks  follow              trad, tr      7        +\n",
       "550 2017-04-02       Surly Girl                            tr      8     None\n",
       "551 2015-07-03    Easily Flakey      tr              trad, tr      7     None\n",
       "\n",
       "[551 rows x 7 columns]"
      ]
     },
     "execution_count": 5,
     "metadata": {},
     "output_type": "execute_result"
    }
   ],
   "source": [
    "df\n"
   ]
  },
  {
   "cell_type": "code",
   "execution_count": 6,
   "metadata": {},
   "outputs": [],
   "source": [
    "df_firsts = get_first_sends(df, 'sport').sort_values('Date', ascending=False)\n",
    "df_firsts = df_firsts.assign(Year=df_firsts.Date.dt.year)\n"
   ]
  },
  {
   "cell_type": "code",
   "execution_count": 7,
   "metadata": {},
   "outputs": [
    {
     "data": {
      "text/html": [
       "<div>\n",
       "<style scoped>\n",
       "    .dataframe tbody tr th:only-of-type {\n",
       "        vertical-align: middle;\n",
       "    }\n",
       "\n",
       "    .dataframe tbody tr th {\n",
       "        vertical-align: top;\n",
       "    }\n",
       "\n",
       "    .dataframe thead th {\n",
       "        text-align: right;\n",
       "    }\n",
       "</style>\n",
       "<table border=\"1\" class=\"dataframe\">\n",
       "  <thead>\n",
       "    <tr style=\"text-align: right;\">\n",
       "      <th></th>\n",
       "      <th>Date</th>\n",
       "      <th>Route</th>\n",
       "      <th>Style</th>\n",
       "      <th>Lead Style</th>\n",
       "      <th>Route Type</th>\n",
       "      <th>Grade</th>\n",
       "      <th>Subgrade</th>\n",
       "      <th>Year</th>\n",
       "    </tr>\n",
       "  </thead>\n",
       "  <tbody>\n",
       "    <tr>\n",
       "      <th>16</th>\n",
       "      <td>2023-11-07</td>\n",
       "      <td>Wild Yet Tasty</td>\n",
       "      <td>lead</td>\n",
       "      <td>redpoint</td>\n",
       "      <td>sport</td>\n",
       "      <td>12</td>\n",
       "      <td>a</td>\n",
       "      <td>2023</td>\n",
       "    </tr>\n",
       "    <tr>\n",
       "      <th>36</th>\n",
       "      <td>2023-10-16</td>\n",
       "      <td>Last Rites</td>\n",
       "      <td>lead</td>\n",
       "      <td>redpoint</td>\n",
       "      <td>sport</td>\n",
       "      <td>12</td>\n",
       "      <td>b</td>\n",
       "      <td>2023</td>\n",
       "    </tr>\n",
       "    <tr>\n",
       "      <th>45</th>\n",
       "      <td>2023-10-11</td>\n",
       "      <td>Mosaic</td>\n",
       "      <td>lead</td>\n",
       "      <td>redpoint</td>\n",
       "      <td>sport</td>\n",
       "      <td>12</td>\n",
       "      <td>c</td>\n",
       "      <td>2023</td>\n",
       "    </tr>\n",
       "    <tr>\n",
       "      <th>52</th>\n",
       "      <td>2023-10-07</td>\n",
       "      <td>Sex Farm</td>\n",
       "      <td>lead</td>\n",
       "      <td>redpoint</td>\n",
       "      <td>sport</td>\n",
       "      <td>12</td>\n",
       "      <td>b</td>\n",
       "      <td>2023</td>\n",
       "    </tr>\n",
       "    <tr>\n",
       "      <th>57</th>\n",
       "      <td>2023-09-25</td>\n",
       "      <td>Mercy the Huff</td>\n",
       "      <td>lead</td>\n",
       "      <td>redpoint</td>\n",
       "      <td>sport</td>\n",
       "      <td>12</td>\n",
       "      <td>b</td>\n",
       "      <td>2023</td>\n",
       "    </tr>\n",
       "    <tr>\n",
       "      <th>7</th>\n",
       "      <td>2023-11-12</td>\n",
       "      <td>Tea at the Palaz of Hoon</td>\n",
       "      <td>lead</td>\n",
       "      <td>flash</td>\n",
       "      <td>sport</td>\n",
       "      <td>11</td>\n",
       "      <td>b</td>\n",
       "      <td>2023</td>\n",
       "    </tr>\n",
       "    <tr>\n",
       "      <th>8</th>\n",
       "      <td>2023-11-12</td>\n",
       "      <td>A Portrait of the Artist as a Young Man</td>\n",
       "      <td>lead</td>\n",
       "      <td>flash</td>\n",
       "      <td>sport</td>\n",
       "      <td>11</td>\n",
       "      <td>b</td>\n",
       "      <td>2023</td>\n",
       "    </tr>\n",
       "    <tr>\n",
       "      <th>14</th>\n",
       "      <td>2023-11-11</td>\n",
       "      <td>Mona Lisa Overdrive</td>\n",
       "      <td>lead</td>\n",
       "      <td>flash</td>\n",
       "      <td>sport</td>\n",
       "      <td>11</td>\n",
       "      <td>b</td>\n",
       "      <td>2023</td>\n",
       "    </tr>\n",
       "    <tr>\n",
       "      <th>23</th>\n",
       "      <td>2023-11-01</td>\n",
       "      <td>Snozzberries</td>\n",
       "      <td>lead</td>\n",
       "      <td>flash</td>\n",
       "      <td>sport</td>\n",
       "      <td>11</td>\n",
       "      <td>d</td>\n",
       "      <td>2023</td>\n",
       "    </tr>\n",
       "    <tr>\n",
       "      <th>41</th>\n",
       "      <td>2023-10-14</td>\n",
       "      <td>On Bended Knee</td>\n",
       "      <td>lead</td>\n",
       "      <td>redpoint</td>\n",
       "      <td>sport</td>\n",
       "      <td>11</td>\n",
       "      <td>a</td>\n",
       "      <td>2023</td>\n",
       "    </tr>\n",
       "    <tr>\n",
       "      <th>42</th>\n",
       "      <td>2023-10-11</td>\n",
       "      <td>The Preacher's Daughter</td>\n",
       "      <td>lead</td>\n",
       "      <td>onsight</td>\n",
       "      <td>sport</td>\n",
       "      <td>11</td>\n",
       "      <td>a</td>\n",
       "      <td>2023</td>\n",
       "    </tr>\n",
       "    <tr>\n",
       "      <th>44</th>\n",
       "      <td>2023-10-11</td>\n",
       "      <td>Guernica (To first anchor)</td>\n",
       "      <td>lead</td>\n",
       "      <td>onsight</td>\n",
       "      <td>sport</td>\n",
       "      <td>11</td>\n",
       "      <td>a</td>\n",
       "      <td>2023</td>\n",
       "    </tr>\n",
       "    <tr>\n",
       "      <th>47</th>\n",
       "      <td>2023-10-08</td>\n",
       "      <td>The Last Supper</td>\n",
       "      <td>lead</td>\n",
       "      <td>redpoint</td>\n",
       "      <td>sport</td>\n",
       "      <td>11</td>\n",
       "      <td>a</td>\n",
       "      <td>2023</td>\n",
       "    </tr>\n",
       "    <tr>\n",
       "      <th>66</th>\n",
       "      <td>2023-04-30</td>\n",
       "      <td>Collision Damage</td>\n",
       "      <td>lead</td>\n",
       "      <td>flash</td>\n",
       "      <td>sport</td>\n",
       "      <td>11</td>\n",
       "      <td>d</td>\n",
       "      <td>2023</td>\n",
       "    </tr>\n",
       "    <tr>\n",
       "      <th>94</th>\n",
       "      <td>2023-03-05</td>\n",
       "      <td>Hot Drama Teacher</td>\n",
       "      <td>lead</td>\n",
       "      <td>flash</td>\n",
       "      <td>sport</td>\n",
       "      <td>11</td>\n",
       "      <td>a</td>\n",
       "      <td>2023</td>\n",
       "    </tr>\n",
       "    <tr>\n",
       "      <th>95</th>\n",
       "      <td>2023-03-05</td>\n",
       "      <td>Fresh off the Bone</td>\n",
       "      <td>lead</td>\n",
       "      <td>flash</td>\n",
       "      <td>sport</td>\n",
       "      <td>11</td>\n",
       "      <td>c</td>\n",
       "      <td>2023</td>\n",
       "    </tr>\n",
       "    <tr>\n",
       "      <th>100</th>\n",
       "      <td>2023-03-04</td>\n",
       "      <td>Eye of the Needle</td>\n",
       "      <td>lead</td>\n",
       "      <td>redpoint</td>\n",
       "      <td>sport</td>\n",
       "      <td>11</td>\n",
       "      <td>b</td>\n",
       "      <td>2023</td>\n",
       "    </tr>\n",
       "    <tr>\n",
       "      <th>99</th>\n",
       "      <td>2023-03-04</td>\n",
       "      <td>The Infidel</td>\n",
       "      <td>lead</td>\n",
       "      <td>flash</td>\n",
       "      <td>sport</td>\n",
       "      <td>11</td>\n",
       "      <td>d</td>\n",
       "      <td>2023</td>\n",
       "    </tr>\n",
       "    <tr>\n",
       "      <th>22</th>\n",
       "      <td>2023-11-05</td>\n",
       "      <td>EGBG</td>\n",
       "      <td>lead</td>\n",
       "      <td>redpoint</td>\n",
       "      <td>sport</td>\n",
       "      <td>10</td>\n",
       "      <td>a</td>\n",
       "      <td>2023</td>\n",
       "    </tr>\n",
       "    <tr>\n",
       "      <th>28</th>\n",
       "      <td>2023-10-25</td>\n",
       "      <td>To Defy The Laws Of Tradition</td>\n",
       "      <td>lead</td>\n",
       "      <td>redpoint</td>\n",
       "      <td>sport</td>\n",
       "      <td>10</td>\n",
       "      <td>a</td>\n",
       "      <td>2023</td>\n",
       "    </tr>\n",
       "  </tbody>\n",
       "</table>\n",
       "</div>"
      ],
      "text/plain": [
       "0         Date                                    Route Style Lead Style  \\\n",
       "16  2023-11-07                           Wild Yet Tasty  lead   redpoint   \n",
       "36  2023-10-16                               Last Rites  lead   redpoint   \n",
       "45  2023-10-11                                   Mosaic  lead   redpoint   \n",
       "52  2023-10-07                                 Sex Farm  lead   redpoint   \n",
       "57  2023-09-25                           Mercy the Huff  lead   redpoint   \n",
       "7   2023-11-12                 Tea at the Palaz of Hoon  lead      flash   \n",
       "8   2023-11-12  A Portrait of the Artist as a Young Man  lead      flash   \n",
       "14  2023-11-11                      Mona Lisa Overdrive  lead      flash   \n",
       "23  2023-11-01                             Snozzberries  lead      flash   \n",
       "41  2023-10-14                           On Bended Knee  lead   redpoint   \n",
       "42  2023-10-11                  The Preacher's Daughter  lead    onsight   \n",
       "44  2023-10-11               Guernica (To first anchor)  lead    onsight   \n",
       "47  2023-10-08                          The Last Supper  lead   redpoint   \n",
       "66  2023-04-30                         Collision Damage  lead      flash   \n",
       "94  2023-03-05                        Hot Drama Teacher  lead      flash   \n",
       "95  2023-03-05                       Fresh off the Bone  lead      flash   \n",
       "100 2023-03-04                        Eye of the Needle  lead   redpoint   \n",
       "99  2023-03-04                              The Infidel  lead      flash   \n",
       "22  2023-11-05                                     EGBG  lead   redpoint   \n",
       "28  2023-10-25            To Defy The Laws Of Tradition  lead   redpoint   \n",
       "\n",
       "0   Route Type  Grade Subgrade  Year  \n",
       "16       sport     12        a  2023  \n",
       "36       sport     12        b  2023  \n",
       "45       sport     12        c  2023  \n",
       "52       sport     12        b  2023  \n",
       "57       sport     12        b  2023  \n",
       "7        sport     11        b  2023  \n",
       "8        sport     11        b  2023  \n",
       "14       sport     11        b  2023  \n",
       "23       sport     11        d  2023  \n",
       "41       sport     11        a  2023  \n",
       "42       sport     11        a  2023  \n",
       "44       sport     11        a  2023  \n",
       "47       sport     11        a  2023  \n",
       "66       sport     11        d  2023  \n",
       "94       sport     11        a  2023  \n",
       "95       sport     11        c  2023  \n",
       "100      sport     11        b  2023  \n",
       "99       sport     11        d  2023  \n",
       "22       sport     10        a  2023  \n",
       "28       sport     10        a  2023  "
      ]
     },
     "execution_count": 7,
     "metadata": {},
     "output_type": "execute_result"
    }
   ],
   "source": [
    "df_firsts.sort_values(['Year', 'Grade'], ascending=False).head(20)\n"
   ]
  },
  {
   "cell_type": "code",
   "execution_count": 8,
   "metadata": {},
   "outputs": [
    {
     "data": {
      "image/png": "[encoded data removed]",
      "text/plain": [
       "<Figure size 640x480 with 1 Axes>"
      ]
     },
     "metadata": {},
     "output_type": "display_data"
    }
   ],
   "source": [
    "ax = mpl_hist(df)\n"
   ]
  },
  {
   "cell_type": "code",
   "execution_count": 9,
   "metadata": {},
   "outputs": [
    {
     "data": {
      "application/vnd.plotly.v1+json": {
       "config": {
        "plotlyServerURL": "https://plot.ly"
       },
       "data": [
        {
         "alignmentgroup": "True",
         "bingroup": "x",
         "hovertemplate": "Year=2018<br>Grade=%{x}<br>count=%{y}<extra></extra>",
         "legendgroup": "2018",
         "marker": {
          "color": "#636efa",
          "pattern": {
           "shape": ""
          }
         },
         "name": "2018",
         "nbinsx": 10,
         "offsetgroup": "2018",
         "orientation": "v",
         "showlegend": true,
         "type": "histogram",
         "x": [
          9,
          10,
          7,
          9,
          8,
          8,
          6,
          9,
          10,
          9,
          9,
          10,
          7,
          7,
          6,
          6,
          3,
          8,
          7,
          7,
          10,
          6,
          8,
          9,
          8,
          7,
          8,
          6,
          8,
          7,
          8,
          7,
          2,
          3,
          7,
          4,
          10,
          10,
          9,
          8,
          8,
          7,
          7,
          6,
          7,
          9,
          10,
          8,
          8
         ],
         "xaxis": "x6",
         "yaxis": "y6"
        },
        {
         "alignmentgroup": "True",
         "bingroup": "x",
         "hovertemplate": "Year=2019<br>Grade=%{x}<br>count=%{y}<extra></extra>",
         "legendgroup": "2019",
         "marker": {
          "color": "#EF553B",
          "pattern": {
           "shape": ""
          }
         },
         "name": "2019",
         "nbinsx": 10,
         "offsetgroup": "2019",
         "orientation": "v",
         "showlegend": true,
         "type": "histogram",
         "x": [
          8,
          8,
          8,
          8,
          7,
          8,
          10,
          10,
          8,
          8,
          8,
          11,
          10,
          7,
          7,
          10,
          8,
          8,
          9,
          9,
          9,
          10,
          8,
          9,
          8,
          8,
          10,
          10,
          8,
          7,
          10,
          8,
          10,
          11,
          12,
          10,
          11,
          10,
          9,
          10,
          10,
          10,
          9,
          9,
          9,
          7,
          10,
          10,
          9,
          10,
          9,
          7,
          6,
          8,
          8,
          7,
          7,
          10,
          8,
          11,
          9,
          11,
          10,
          7,
          6,
          6,
          10,
          6,
          10,
          8,
          9,
          10,
          7,
          8,
          11,
          11
         ],
         "xaxis": "x5",
         "yaxis": "y5"
        },
        {
         "alignmentgroup": "True",
         "bingroup": "x",
         "hovertemplate": "Year=2020<br>Grade=%{x}<br>count=%{y}<extra></extra>",
         "legendgroup": "2020",
         "marker": {
          "color": "#00cc96",
          "pattern": {
           "shape": ""
          }
         },
         "name": "2020",
         "nbinsx": 10,
         "offsetgroup": "2020",
         "orientation": "v",
         "showlegend": true,
         "type": "histogram",
         "x": [
          10,
          9,
          9,
          9,
          9,
          9,
          9,
          9,
          10,
          9,
          8,
          8,
          10,
          11,
          10,
          9,
          10,
          10,
          10,
          9,
          11,
          10,
          11,
          7,
          6,
          7,
          8,
          10
         ],
         "xaxis": "x4",
         "yaxis": "y4"
        },
        {
         "alignmentgroup": "True",
         "bingroup": "x",
         "hovertemplate": "Year=2021<br>Grade=%{x}<br>count=%{y}<extra></extra>",
         "legendgroup": "2021",
         "marker": {
          "color": "#ab63fa",
          "pattern": {
           "shape": ""
          }
         },
         "name": "2021",
         "nbinsx": 10,
         "offsetgroup": "2021",
         "orientation": "v",
         "showlegend": true,
         "type": "histogram",
         "x": [
          6,
          7,
          10,
          8,
          8,
          10,
          9,
          10,
          9,
          11,
          7,
          9,
          9,
          11,
          8,
          7,
          10,
          8,
          10,
          9,
          10,
          9,
          10,
          10,
          11,
          11,
          10,
          11,
          11,
          11,
          4,
          3,
          6,
          10,
          10,
          11,
          11,
          11
         ],
         "xaxis": "x3",
         "yaxis": "y3"
        },
        {
         "alignmentgroup": "True",
         "bingroup": "x",
         "hovertemplate": "Year=2022<br>Grade=%{x}<br>count=%{y}<extra></extra>",
         "legendgroup": "2022",
         "marker": {
          "color": "#FFA15A",
          "pattern": {
           "shape": ""
          }
         },
         "name": "2022",
         "nbinsx": 10,
         "offsetgroup": "2022",
         "orientation": "v",
         "showlegend": true,
         "type": "histogram",
         "x": [
          10,
          9,
          10,
          10,
          10,
          9,
          11,
          11,
          12,
          8,
          11,
          7,
          7,
          6,
          10,
          7,
          10,
          10,
          10,
          10,
          9,
          8,
          3,
          8,
          6,
          10,
          10,
          9,
          7,
          4,
          10,
          10,
          11,
          12,
          9,
          9,
          11,
          10,
          9,
          7,
          6,
          10,
          10,
          10,
          12,
          12,
          11,
          11,
          11,
          10,
          11,
          7,
          9,
          11
         ],
         "xaxis": "x2",
         "yaxis": "y2"
        },
        {
         "alignmentgroup": "True",
         "bingroup": "x",
         "hovertemplate": "Year=2023<br>Grade=%{x}<br>count=%{y}<extra></extra>",
         "legendgroup": "2023",
         "marker": {
          "color": "#19d3f3",
          "pattern": {
           "shape": ""
          }
         },
         "name": "2023",
         "nbinsx": 10,
         "offsetgroup": "2023",
         "orientation": "v",
         "showlegend": true,
         "type": "histogram",
         "x": [
          8,
          9,
          9,
          7,
          10,
          11,
          11,
          10,
          9,
          8,
          10,
          11,
          11,
          6,
          10,
          8,
          6,
          7,
          9,
          8,
          10,
          10,
          9,
          9,
          10,
          6,
          8,
          11,
          7,
          12,
          9,
          12,
          11,
          11,
          11,
          12,
          11,
          12,
          4,
          6,
          5,
          2,
          10,
          11,
          10,
          12,
          11,
          11,
          11
         ],
         "xaxis": "x",
         "yaxis": "y"
        }
       ],
       "layout": {
        "annotations": [
         {
          "font": {},
          "showarrow": false,
          "text": "2023",
          "textangle": 90,
          "x": 0.98,
          "xanchor": "left",
          "xref": "paper",
          "y": 0.07083333333333333,
          "yanchor": "middle",
          "yref": "paper"
         },
         {
          "font": {},
          "showarrow": false,
          "text": "2022",
          "textangle": 90,
          "x": 0.98,
          "xanchor": "left",
          "xref": "paper",
          "y": 0.2425,
          "yanchor": "middle",
          "yref": "paper"
         },
         {
          "font": {},
          "showarrow": false,
          "text": "2021",
          "textangle": 90,
          "x": 0.98,
          "xanchor": "left",
          "xref": "paper",
          "y": 0.4141666666666667,
          "yanchor": "middle",
          "yref": "paper"
         },
         {
          "font": {},
          "showarrow": false,
          "text": "2020",
          "textangle": 90,
          "x": 0.98,
          "xanchor": "left",
          "xref": "paper",
          "y": 0.5858333333333334,
          "yanchor": "middle",
          "yref": "paper"
         },
         {
          "font": {},
          "showarrow": false,
          "text": "2019",
          "textangle": 90,
          "x": 0.98,
          "xanchor": "left",
          "xref": "paper",
          "y": 0.7575000000000001,
          "yanchor": "middle",
          "yref": "paper"
         },
         {
          "font": {},
          "showarrow": false,
          "text": "2018",
          "textangle": 90,
          "x": 0.98,
          "xanchor": "left",
          "xref": "paper",
          "y": 0.9291666666666667,
          "yanchor": "middle",
          "yref": "paper"
         }
        ],
        "barmode": "relative",
        "height": 1000,
        "legend": {
         "title": {
          "text": "Year"
         },
         "tracegroupgap": 0
        },
        "margin": {
         "t": 60
        },
        "template": {
         "data": {
          "bar": [
           {
            "error_x": {
             "color": "#2a3f5f"
            },
            "error_y": {
             "color": "#2a3f5f"
            },
            "marker": {
             "line": {
              "color": "#E5ECF6",
              "width": 0.5
             },
             "pattern": {
              "fillmode": "overlay",
              "size": 10,
              "solidity": 0.2
             }
            },
            "type": "bar"
           }
          ],
          "barpolar": [
           {
            "marker": {
             "line": {
              "color": "#E5ECF6",
              "width": 0.5
             },
             "pattern": {
              "fillmode": "overlay",
              "size": 10,
              "solidity": 0.2
             }
            },
            "type": "barpolar"
           }
          ],
          "carpet": [
           {
            "aaxis": {
             "endlinecolor": "#2a3f5f",
             "gridcolor": "white",
             "linecolor": "white",
             "minorgridcolor": "white",
             "startlinecolor": "#2a3f5f"
            },
            "baxis": {
             "endlinecolor": "#2a3f5f",
             "gridcolor": "white",
             "linecolor": "white",
             "minorgridcolor": "white",
             "startlinecolor": "#2a3f5f"
            },
            "type": "carpet"
           }
          ],
          "choropleth": [
           {
            "colorbar": {
             "outlinewidth": 0,
             "ticks": ""
            },
            "type": "choropleth"
           }
          ],
          "contour": [
           {
            "colorbar": {
             "outlinewidth": 0,
             "ticks": ""
            },
            "colorscale": [
             [
              0,
              "#0d0887"
             ],
             [
              0.1111111111111111,
              "#46039f"
             ],
             [
              0.2222222222222222,
              "#7201a8"
             ],
             [
              0.3333333333333333,
              "#9c179e"
             ],
             [
              0.4444444444444444,
              "#bd3786"
             ],
             [
              0.5555555555555556,
              "#d8576b"
             ],
             [
              0.6666666666666666,
              "#ed7953"
             ],
             [
              0.7777777777777778,
              "#fb9f3a"
             ],
             [
              0.8888888888888888,
              "#fdca26"
             ],
             [
              1,
              "#f0f921"
             ]
            ],
            "type": "contour"
           }
          ],
          "contourcarpet": [
           {
            "colorbar": {
             "outlinewidth": 0,
             "ticks": ""
            },
            "type": "contourcarpet"
           }
          ],
          "heatmap": [
           {
            "colorbar": {
             "outlinewidth": 0,
             "ticks": ""
            },
            "colorscale": [
             [
              0,
              "#0d0887"
             ],
             [
              0.1111111111111111,
              "#46039f"
             ],
             [
              0.2222222222222222,
              "#7201a8"
             ],
             [
              0.3333333333333333,
              "#9c179e"
             ],
             [
              0.4444444444444444,
              "#bd3786"
             ],
             [
              0.5555555555555556,
              "#d8576b"
             ],
             [
              0.6666666666666666,
              "#ed7953"
             ],
             [
              0.7777777777777778,
              "#fb9f3a"
             ],
             [
              0.8888888888888888,
              "#fdca26"
             ],
             [
              1,
              "#f0f921"
             ]
            ],
            "type": "heatmap"
           }
          ],
          "heatmapgl": [
           {
            "colorbar": {
             "outlinewidth": 0,
             "ticks": ""
            },
            "colorscale": [
             [
              0,
              "#0d0887"
             ],
             [
              0.1111111111111111,
              "#46039f"
             ],
             [
              0.2222222222222222,
              "#7201a8"
             ],
             [
              0.3333333333333333,
              "#9c179e"
             ],
             [
              0.4444444444444444,
              "#bd3786"
             ],
             [
              0.5555555555555556,
              "#d8576b"
             ],
             [
              0.6666666666666666,
              "#ed7953"
             ],
             [
              0.7777777777777778,
              "#fb9f3a"
             ],
             [
              0.8888888888888888,
              "#fdca26"
             ],
             [
              1,
              "#f0f921"
             ]
            ],
            "type": "heatmapgl"
           }
          ],
          "histogram": [
           {
            "marker": {
             "pattern": {
              "fillmode": "overlay",
              "size": 10,
              "solidity": 0.2
             }
            },
            "type": "histogram"
           }
          ],
          "histogram2d": [
           {
            "colorbar": {
             "outlinewidth": 0,
             "ticks": ""
            },
            "colorscale": [
             [
              0,
              "#0d0887"
             ],
             [
              0.1111111111111111,
              "#46039f"
             ],
             [
              0.2222222222222222,
              "#7201a8"
             ],
             [
              0.3333333333333333,
              "#9c179e"
             ],
             [
              0.4444444444444444,
              "#bd3786"
             ],
             [
              0.5555555555555556,
              "#d8576b"
             ],
             [
              0.6666666666666666,
              "#ed7953"
             ],
             [
              0.7777777777777778,
              "#fb9f3a"
             ],
             [
              0.8888888888888888,
              "#fdca26"
             ],
             [
              1,
              "#f0f921"
             ]
            ],
            "type": "histogram2d"
           }
          ],
          "histogram2dcontour": [
           {
            "colorbar": {
             "outlinewidth": 0,
             "ticks": ""
            },
            "colorscale": [
             [
              0,
              "#0d0887"
             ],
             [
              0.1111111111111111,
              "#46039f"
             ],
             [
              0.2222222222222222,
              "#7201a8"
             ],
             [
              0.3333333333333333,
              "#9c179e"
             ],
             [
              0.4444444444444444,
              "#bd3786"
             ],
             [
              0.5555555555555556,
              "#d8576b"
             ],
             [
              0.6666666666666666,
              "#ed7953"
             ],
             [
              0.7777777777777778,
              "#fb9f3a"
             ],
             [
              0.8888888888888888,
              "#fdca26"
             ],
             [
              1,
              "#f0f921"
             ]
            ],
            "type": "histogram2dcontour"
           }
          ],
          "mesh3d": [
           {
            "colorbar": {
             "outlinewidth": 0,
             "ticks": ""
            },
            "type": "mesh3d"
           }
          ],
          "parcoords": [
           {
            "line": {
             "colorbar": {
              "outlinewidth": 0,
              "ticks": ""
             }
            },
            "type": "parcoords"
           }
          ],
          "pie": [
           {
            "automargin": true,
            "type": "pie"
           }
          ],
          "scatter": [
           {
            "fillpattern": {
             "fillmode": "overlay",
             "size": 10,
             "solidity": 0.2
            },
            "type": "scatter"
           }
          ],
          "scatter3d": [
           {
            "line": {
             "colorbar": {
              "outlinewidth": 0,
              "ticks": ""
             }
            },
            "marker": {
             "colorbar": {
              "outlinewidth": 0,
              "ticks": ""
             }
            },
            "type": "scatter3d"
           }
          ],
          "scattercarpet": [
           {
            "marker": {
             "colorbar": {
              "outlinewidth": 0,
              "ticks": ""
             }
            },
            "type": "scattercarpet"
           }
          ],
          "scattergeo": [
           {
            "marker": {
             "colorbar": {
              "outlinewidth": 0,
              "ticks": ""
             }
            },
            "type": "scattergeo"
           }
          ],
          "scattergl": [
           {
            "marker": {
             "colorbar": {
              "outlinewidth": 0,
              "ticks": ""
             }
            },
            "type": "scattergl"
           }
          ],
          "scattermapbox": [
           {
            "marker": {
             "colorbar": {
              "outlinewidth": 0,
              "ticks": ""
             }
            },
            "type": "scattermapbox"
           }
          ],
          "scatterpolar": [
           {
            "marker": {
             "colorbar": {
              "outlinewidth": 0,
              "ticks": ""
             }
            },
            "type": "scatterpolar"
           }
          ],
          "scatterpolargl": [
           {
            "marker": {
             "colorbar": {
              "outlinewidth": 0,
              "ticks": ""
             }
            },
            "type": "scatterpolargl"
           }
          ],
          "scatterternary": [
           {
            "marker": {
             "colorbar": {
              "outlinewidth": 0,
              "ticks": ""
             }
            },
            "type": "scatterternary"
           }
          ],
          "surface": [
           {
            "colorbar": {
             "outlinewidth": 0,
             "ticks": ""
            },
            "colorscale": [
             [
              0,
              "#0d0887"
             ],
             [
              0.1111111111111111,
              "#46039f"
             ],
             [
              0.2222222222222222,
              "#7201a8"
             ],
             [
              0.3333333333333333,
              "#9c179e"
             ],
             [
              0.4444444444444444,
              "#bd3786"
             ],
             [
              0.5555555555555556,
              "#d8576b"
             ],
             [
              0.6666666666666666,
              "#ed7953"
             ],
             [
              0.7777777777777778,
              "#fb9f3a"
             ],
             [
              0.8888888888888888,
              "#fdca26"
             ],
             [
              1,
              "#f0f921"
             ]
            ],
            "type": "surface"
           }
          ],
          "table": [
           {
            "cells": {
             "fill": {
              "color": "#EBF0F8"
             },
             "line": {
              "color": "white"
             }
            },
            "header": {
             "fill": {
              "color": "#C8D4E3"
             },
             "line": {
              "color": "white"
             }
            },
            "type": "table"
           }
          ]
         },
         "layout": {
          "annotationdefaults": {
           "arrowcolor": "#2a3f5f",
           "arrowhead": 0,
           "arrowwidth": 1
          },
          "autotypenumbers": "strict",
          "coloraxis": {
           "colorbar": {
            "outlinewidth": 0,
            "ticks": ""
           }
          },
          "colorscale": {
           "diverging": [
            [
             0,
             "#8e0152"
            ],
            [
             0.1,
             "#c51b7d"
            ],
            [
             0.2,
             "#de77ae"
            ],
            [
             0.3,
             "#f1b6da"
            ],
            [
             0.4,
             "#fde0ef"
            ],
            [
             0.5,
             "#f7f7f7"
            ],
            [
             0.6,
             "#e6f5d0"
            ],
            [
             0.7,
             "#b8e186"
            ],
            [
             0.8,
             "#7fbc41"
            ],
            [
             0.9,
             "#4d9221"
            ],
            [
             1,
             "#276419"
            ]
           ],
           "sequential": [
            [
             0,
             "#0d0887"
            ],
            [
             0.1111111111111111,
             "#46039f"
            ],
            [
             0.2222222222222222,
             "#7201a8"
            ],
            [
             0.3333333333333333,
             "#9c179e"
            ],
            [
             0.4444444444444444,
             "#bd3786"
            ],
            [
             0.5555555555555556,
             "#d8576b"
            ],
            [
             0.6666666666666666,
             "#ed7953"
            ],
            [
             0.7777777777777778,
             "#fb9f3a"
            ],
            [
             0.8888888888888888,
             "#fdca26"
            ],
            [
             1,
             "#f0f921"
            ]
           ],
           "sequentialminus": [
            [
             0,
             "#0d0887"
            ],
            [
             0.1111111111111111,
             "#46039f"
            ],
            [
             0.2222222222222222,
             "#7201a8"
            ],
            [
             0.3333333333333333,
             "#9c179e"
            ],
            [
             0.4444444444444444,
             "#bd3786"
            ],
            [
             0.5555555555555556,
             "#d8576b"
            ],
            [
             0.6666666666666666,
             "#ed7953"
            ],
            [
             0.7777777777777778,
             "#fb9f3a"
            ],
            [
             0.8888888888888888,
             "#fdca26"
            ],
            [
             1,
             "#f0f921"
            ]
           ]
          },
          "colorway": [
           "#636efa",
           "#EF553B",
           "#00cc96",
           "#ab63fa",
           "#FFA15A",
           "#19d3f3",
           "#FF6692",
           "#B6E880",
           "#FF97FF",
           "#FECB52"
          ],
          "font": {
           "color": "#2a3f5f"
          },
          "geo": {
           "bgcolor": "white",
           "lakecolor": "white",
           "landcolor": "#E5ECF6",
           "showlakes": true,
           "showland": true,
           "subunitcolor": "white"
          },
          "hoverlabel": {
           "align": "left"
          },
          "hovermode": "closest",
          "mapbox": {
           "style": "light"
          },
          "paper_bgcolor": "white",
          "plot_bgcolor": "#E5ECF6",
          "polar": {
           "angularaxis": {
            "gridcolor": "white",
            "linecolor": "white",
            "ticks": ""
           },
           "bgcolor": "#E5ECF6",
           "radialaxis": {
            "gridcolor": "white",
            "linecolor": "white",
            "ticks": ""
           }
          },
          "scene": {
           "xaxis": {
            "backgroundcolor": "#E5ECF6",
            "gridcolor": "white",
            "gridwidth": 2,
            "linecolor": "white",
            "showbackground": true,
            "ticks": "",
            "zerolinecolor": "white"
           },
           "yaxis": {
            "backgroundcolor": "#E5ECF6",
            "gridcolor": "white",
            "gridwidth": 2,
            "linecolor": "white",
            "showbackground": true,
            "ticks": "",
            "zerolinecolor": "white"
           },
           "zaxis": {
            "backgroundcolor": "#E5ECF6",
            "gridcolor": "white",
            "gridwidth": 2,
            "linecolor": "white",
            "showbackground": true,
            "ticks": "",
            "zerolinecolor": "white"
           }
          },
          "shapedefaults": {
           "line": {
            "color": "#2a3f5f"
           }
          },
          "ternary": {
           "aaxis": {
            "gridcolor": "white",
            "linecolor": "white",
            "ticks": ""
           },
           "baxis": {
            "gridcolor": "white",
            "linecolor": "white",
            "ticks": ""
           },
           "bgcolor": "#E5ECF6",
           "caxis": {
            "gridcolor": "white",
            "linecolor": "white",
            "ticks": ""
           }
          },
          "title": {
           "x": 0.05
          },
          "xaxis": {
           "automargin": true,
           "gridcolor": "white",
           "linecolor": "white",
           "ticks": "",
           "title": {
            "standoff": 15
           },
           "zerolinecolor": "white",
           "zerolinewidth": 2
          },
          "yaxis": {
           "automargin": true,
           "gridcolor": "white",
           "linecolor": "white",
           "ticks": "",
           "title": {
            "standoff": 15
           },
           "zerolinecolor": "white",
           "zerolinewidth": 2
          }
         }
        },
        "width": 1000,
        "xaxis": {
         "anchor": "y",
         "domain": [
          0,
          0.98
         ],
         "range": [
          2,
          12
         ],
         "title": {
          "text": "Grade"
         }
        },
        "xaxis2": {
         "anchor": "y2",
         "domain": [
          0,
          0.98
         ],
         "matches": "x",
         "showticklabels": false
        },
        "xaxis3": {
         "anchor": "y3",
         "domain": [
          0,
          0.98
         ],
         "matches": "x",
         "showticklabels": false
        },
        "xaxis4": {
         "anchor": "y4",
         "domain": [
          0,
          0.98
         ],
         "matches": "x",
         "showticklabels": false
        },
        "xaxis5": {
         "anchor": "y5",
         "domain": [
          0,
          0.98
         ],
         "matches": "x",
         "showticklabels": false
        },
        "xaxis6": {
         "anchor": "y6",
         "domain": [
          0,
          0.98
         ],
         "matches": "x",
         "showticklabels": false
        },
        "yaxis": {
         "anchor": "x",
         "domain": [
          0,
          0.14166666666666666
         ],
         "range": [
          0,
          22
         ],
         "title": {
          "text": "Sends"
         }
        },
        "yaxis2": {
         "anchor": "x2",
         "domain": [
          0.17166666666666666,
          0.31333333333333335
         ],
         "matches": "y",
         "range": [
          0,
          22
         ],
         "title": {
          "text": "Sends"
         }
        },
        "yaxis3": {
         "anchor": "x3",
         "domain": [
          0.3433333333333333,
          0.485
         ],
         "matches": "y",
         "range": [
          0,
          22
         ],
         "title": {
          "text": "Sends"
         }
        },
        "yaxis4": {
         "anchor": "x4",
         "domain": [
          0.515,
          0.6566666666666667
         ],
         "matches": "y",
         "range": [
          0,
          22
         ],
         "title": {
          "text": "Sends"
         }
        },
        "yaxis5": {
         "anchor": "x5",
         "domain": [
          0.6866666666666666,
          0.8283333333333334
         ],
         "matches": "y",
         "range": [
          0,
          22
         ],
         "title": {
          "text": "Sends"
         }
        },
        "yaxis6": {
         "anchor": "x6",
         "domain": [
          0.8583333333333333,
          1
         ],
         "matches": "y",
         "range": [
          0,
          22
         ],
         "title": {
          "text": "Sends"
         }
        }
       }
      }
     },
     "metadata": {},
     "output_type": "display_data"
    }
   ],
   "source": [
    "px_hist(df)\n"
   ]
  },
  {
   "cell_type": "code",
   "execution_count": 10,
   "metadata": {},
   "outputs": [],
   "source": [
    "from mp_data import px_hist_3d\n",
    "import plotly.graph_objects as go\n"
   ]
  },
  {
   "cell_type": "code",
   "execution_count": 11,
   "metadata": {},
   "outputs": [
    {
     "data": {
      "text/html": [
       "<div>\n",
       "<style scoped>\n",
       "    .dataframe tbody tr th:only-of-type {\n",
       "        vertical-align: middle;\n",
       "    }\n",
       "\n",
       "    .dataframe tbody tr th {\n",
       "        vertical-align: top;\n",
       "    }\n",
       "\n",
       "    .dataframe thead th {\n",
       "        text-align: right;\n",
       "    }\n",
       "</style>\n",
       "<table border=\"1\" class=\"dataframe\">\n",
       "  <thead>\n",
       "    <tr style=\"text-align: right;\">\n",
       "      <th>Grade</th>\n",
       "      <th>2</th>\n",
       "      <th>3</th>\n",
       "      <th>4</th>\n",
       "      <th>6</th>\n",
       "      <th>7</th>\n",
       "      <th>8</th>\n",
       "      <th>9</th>\n",
       "      <th>10</th>\n",
       "      <th>11</th>\n",
       "      <th>12</th>\n",
       "    </tr>\n",
       "    <tr>\n",
       "      <th>Year</th>\n",
       "      <th></th>\n",
       "      <th></th>\n",
       "      <th></th>\n",
       "      <th></th>\n",
       "      <th></th>\n",
       "      <th></th>\n",
       "      <th></th>\n",
       "      <th></th>\n",
       "      <th></th>\n",
       "      <th></th>\n",
       "    </tr>\n",
       "  </thead>\n",
       "  <tbody>\n",
       "    <tr>\n",
       "      <th>2018</th>\n",
       "      <td>1.0</td>\n",
       "      <td>2.0</td>\n",
       "      <td>1.0</td>\n",
       "      <td>6.0</td>\n",
       "      <td>12.0</td>\n",
       "      <td>12.0</td>\n",
       "      <td>8.0</td>\n",
       "      <td>7.0</td>\n",
       "      <td>0.0</td>\n",
       "      <td>0.0</td>\n",
       "    </tr>\n",
       "    <tr>\n",
       "      <th>2019</th>\n",
       "      <td>0.0</td>\n",
       "      <td>0.0</td>\n",
       "      <td>0.0</td>\n",
       "      <td>4.0</td>\n",
       "      <td>10.0</td>\n",
       "      <td>20.0</td>\n",
       "      <td>12.0</td>\n",
       "      <td>22.0</td>\n",
       "      <td>7.0</td>\n",
       "      <td>1.0</td>\n",
       "    </tr>\n",
       "    <tr>\n",
       "      <th>2020</th>\n",
       "      <td>0.0</td>\n",
       "      <td>0.0</td>\n",
       "      <td>0.0</td>\n",
       "      <td>1.0</td>\n",
       "      <td>2.0</td>\n",
       "      <td>3.0</td>\n",
       "      <td>10.0</td>\n",
       "      <td>9.0</td>\n",
       "      <td>3.0</td>\n",
       "      <td>0.0</td>\n",
       "    </tr>\n",
       "    <tr>\n",
       "      <th>2021</th>\n",
       "      <td>0.0</td>\n",
       "      <td>1.0</td>\n",
       "      <td>1.0</td>\n",
       "      <td>3.0</td>\n",
       "      <td>3.0</td>\n",
       "      <td>4.0</td>\n",
       "      <td>6.0</td>\n",
       "      <td>11.0</td>\n",
       "      <td>10.0</td>\n",
       "      <td>0.0</td>\n",
       "    </tr>\n",
       "    <tr>\n",
       "      <th>2022</th>\n",
       "      <td>0.0</td>\n",
       "      <td>1.0</td>\n",
       "      <td>1.0</td>\n",
       "      <td>3.0</td>\n",
       "      <td>6.0</td>\n",
       "      <td>3.0</td>\n",
       "      <td>9.0</td>\n",
       "      <td>17.0</td>\n",
       "      <td>10.0</td>\n",
       "      <td>4.0</td>\n",
       "    </tr>\n",
       "    <tr>\n",
       "      <th>2023</th>\n",
       "      <td>0.0</td>\n",
       "      <td>0.0</td>\n",
       "      <td>0.0</td>\n",
       "      <td>3.0</td>\n",
       "      <td>3.0</td>\n",
       "      <td>5.0</td>\n",
       "      <td>7.0</td>\n",
       "      <td>8.0</td>\n",
       "      <td>9.0</td>\n",
       "      <td>4.0</td>\n",
       "    </tr>\n",
       "  </tbody>\n",
       "</table>\n",
       "</div>"
      ],
      "text/plain": [
       "Grade   2    3    4    6     7     8     9     10    11   12\n",
       "Year                                                        \n",
       "2018   1.0  2.0  1.0  6.0  12.0  12.0   8.0   7.0   0.0  0.0\n",
       "2019   0.0  0.0  0.0  4.0  10.0  20.0  12.0  22.0   7.0  1.0\n",
       "2020   0.0  0.0  0.0  1.0   2.0   3.0  10.0   9.0   3.0  0.0\n",
       "2021   0.0  1.0  1.0  3.0   3.0   4.0   6.0  11.0  10.0  0.0\n",
       "2022   0.0  1.0  1.0  3.0   6.0   3.0   9.0  17.0  10.0  4.0\n",
       "2023   0.0  0.0  0.0  3.0   3.0   5.0   7.0   8.0   9.0  4.0"
      ]
     },
     "execution_count": 11,
     "metadata": {},
     "output_type": "execute_result"
    }
   ],
   "source": [
    "df_firsts = get_first_sends(df)\n",
    "df_firsts['Year'] = df_firsts['Date'].dt.year\n",
    "hist_data = (df_firsts\n",
    "             .groupby(['Year', 'Grade'])['Route']\n",
    "             .count()\n",
    "             .sort_index(ascending=False)\n",
    "             .to_frame()\n",
    "             .reset_index()\n",
    "             .rename(columns={'Route': 'Count'})\n",
    "             .pivot_table('Count', 'Year', 'Grade')\n",
    "             .fillna(0))\n",
    "\n",
    "hist_data\n"
   ]
  },
  {
   "cell_type": "code",
   "execution_count": 12,
   "metadata": {},
   "outputs": [],
   "source": [
    "import numpy as np\n"
   ]
  },
  {
   "cell_type": "code",
   "execution_count": 13,
   "metadata": {},
   "outputs": [
    {
     "data": {
      "text/plain": [
       "12"
      ]
     },
     "execution_count": 13,
     "metadata": {},
     "output_type": "execute_result"
    }
   ],
   "source": [
    "hist_data.columns.max()\n"
   ]
  },
  {
   "cell_type": "code",
   "execution_count": 14,
   "metadata": {},
   "outputs": [
    {
     "data": {
      "text/plain": [
       "12"
      ]
     },
     "execution_count": 14,
     "metadata": {},
     "output_type": "execute_result"
    }
   ],
   "source": [
    "hist_data.columns.max()\n"
   ]
  },
  {
   "cell_type": "code",
   "execution_count": 15,
   "metadata": {},
   "outputs": [
    {
     "data": {
      "text/html": [
       "<div>\n",
       "<style scoped>\n",
       "    .dataframe tbody tr th:only-of-type {\n",
       "        vertical-align: middle;\n",
       "    }\n",
       "\n",
       "    .dataframe tbody tr th {\n",
       "        vertical-align: top;\n",
       "    }\n",
       "\n",
       "    .dataframe thead th {\n",
       "        text-align: right;\n",
       "    }\n",
       "</style>\n",
       "<table border=\"1\" class=\"dataframe\">\n",
       "  <thead>\n",
       "    <tr style=\"text-align: right;\">\n",
       "      <th>Grade</th>\n",
       "      <th>2</th>\n",
       "      <th>3</th>\n",
       "      <th>4</th>\n",
       "      <th>6</th>\n",
       "      <th>7</th>\n",
       "      <th>8</th>\n",
       "      <th>9</th>\n",
       "      <th>10</th>\n",
       "      <th>11</th>\n",
       "      <th>12</th>\n",
       "    </tr>\n",
       "    <tr>\n",
       "      <th>Year</th>\n",
       "      <th></th>\n",
       "      <th></th>\n",
       "      <th></th>\n",
       "      <th></th>\n",
       "      <th></th>\n",
       "      <th></th>\n",
       "      <th></th>\n",
       "      <th></th>\n",
       "      <th></th>\n",
       "      <th></th>\n",
       "    </tr>\n",
       "  </thead>\n",
       "  <tbody>\n",
       "    <tr>\n",
       "      <th>2018</th>\n",
       "      <td>1.0</td>\n",
       "      <td>2.0</td>\n",
       "      <td>1.0</td>\n",
       "      <td>6.0</td>\n",
       "      <td>12.0</td>\n",
       "      <td>12.0</td>\n",
       "      <td>8.0</td>\n",
       "      <td>7.0</td>\n",
       "      <td>0.0</td>\n",
       "      <td>0.0</td>\n",
       "    </tr>\n",
       "    <tr>\n",
       "      <th>2019</th>\n",
       "      <td>0.0</td>\n",
       "      <td>0.0</td>\n",
       "      <td>0.0</td>\n",
       "      <td>4.0</td>\n",
       "      <td>10.0</td>\n",
       "      <td>20.0</td>\n",
       "      <td>12.0</td>\n",
       "      <td>22.0</td>\n",
       "      <td>7.0</td>\n",
       "      <td>1.0</td>\n",
       "    </tr>\n",
       "    <tr>\n",
       "      <th>2020</th>\n",
       "      <td>0.0</td>\n",
       "      <td>0.0</td>\n",
       "      <td>0.0</td>\n",
       "      <td>1.0</td>\n",
       "      <td>2.0</td>\n",
       "      <td>3.0</td>\n",
       "      <td>10.0</td>\n",
       "      <td>9.0</td>\n",
       "      <td>3.0</td>\n",
       "      <td>0.0</td>\n",
       "    </tr>\n",
       "    <tr>\n",
       "      <th>2021</th>\n",
       "      <td>0.0</td>\n",
       "      <td>1.0</td>\n",
       "      <td>1.0</td>\n",
       "      <td>3.0</td>\n",
       "      <td>3.0</td>\n",
       "      <td>4.0</td>\n",
       "      <td>6.0</td>\n",
       "      <td>11.0</td>\n",
       "      <td>10.0</td>\n",
       "      <td>0.0</td>\n",
       "    </tr>\n",
       "    <tr>\n",
       "      <th>2022</th>\n",
       "      <td>0.0</td>\n",
       "      <td>1.0</td>\n",
       "      <td>1.0</td>\n",
       "      <td>3.0</td>\n",
       "      <td>6.0</td>\n",
       "      <td>3.0</td>\n",
       "      <td>9.0</td>\n",
       "      <td>17.0</td>\n",
       "      <td>10.0</td>\n",
       "      <td>4.0</td>\n",
       "    </tr>\n",
       "    <tr>\n",
       "      <th>2023</th>\n",
       "      <td>0.0</td>\n",
       "      <td>0.0</td>\n",
       "      <td>0.0</td>\n",
       "      <td>3.0</td>\n",
       "      <td>3.0</td>\n",
       "      <td>5.0</td>\n",
       "      <td>7.0</td>\n",
       "      <td>8.0</td>\n",
       "      <td>9.0</td>\n",
       "      <td>4.0</td>\n",
       "    </tr>\n",
       "  </tbody>\n",
       "</table>\n",
       "</div>"
      ],
      "text/plain": [
       "Grade   2    3    4    6     7     8     9     10    11   12\n",
       "Year                                                        \n",
       "2018   1.0  2.0  1.0  6.0  12.0  12.0   8.0   7.0   0.0  0.0\n",
       "2019   0.0  0.0  0.0  4.0  10.0  20.0  12.0  22.0   7.0  1.0\n",
       "2020   0.0  0.0  0.0  1.0   2.0   3.0  10.0   9.0   3.0  0.0\n",
       "2021   0.0  1.0  1.0  3.0   3.0   4.0   6.0  11.0  10.0  0.0\n",
       "2022   0.0  1.0  1.0  3.0   6.0   3.0   9.0  17.0  10.0  4.0\n",
       "2023   0.0  0.0  0.0  3.0   3.0   5.0   7.0   8.0   9.0  4.0"
      ]
     },
     "execution_count": 15,
     "metadata": {},
     "output_type": "execute_result"
    }
   ],
   "source": [
    "hist_data\n"
   ]
  },
  {
   "cell_type": "code",
   "execution_count": 16,
   "metadata": {},
   "outputs": [
    {
     "data": {
      "application/vnd.plotly.v1+json": {
       "config": {
        "plotlyServerURL": "https://plot.ly"
       },
       "data": [
        {
         "type": "surface",
         "x": [
          2018,
          2019,
          2020,
          2021,
          2022,
          2023
         ],
         "y": [
          2,
          3.111111111111111,
          4.222222222222222,
          5.333333333333334,
          6.444444444444445,
          7.555555555555555,
          8.666666666666668,
          9.777777777777779,
          10.88888888888889,
          12
         ],
         "z": [
          [
           1,
           2,
           1,
           6,
           12,
           12,
           8,
           7,
           0,
           0
          ],
          [
           0,
           0,
           0,
           4,
           10,
           20,
           12,
           22,
           7,
           1
          ],
          [
           0,
           0,
           0,
           1,
           2,
           3,
           10,
           9,
           3,
           0
          ],
          [
           0,
           1,
           1,
           3,
           3,
           4,
           6,
           11,
           10,
           0
          ],
          [
           0,
           1,
           1,
           3,
           6,
           3,
           9,
           17,
           10,
           4
          ],
          [
           0,
           0,
           0,
           3,
           3,
           5,
           7,
           8,
           9,
           4
          ]
         ]
        }
       ],
       "layout": {
        "scene": {
         "xaxis": {
          "nticks": 6,
          "range": [
           2018,
           2023
          ],
          "title": {
           "text": "Year"
          }
         },
         "yaxis": {
          "nticks": 10,
          "range": [
           2,
           12
          ],
          "title": {
           "text": "Grade"
          }
         }
        },
        "template": {
         "data": {
          "bar": [
           {
            "error_x": {
             "color": "#2a3f5f"
            },
            "error_y": {
             "color": "#2a3f5f"
            },
            "marker": {
             "line": {
              "color": "#E5ECF6",
              "width": 0.5
             },
             "pattern": {
              "fillmode": "overlay",
              "size": 10,
              "solidity": 0.2
             }
            },
            "type": "bar"
           }
          ],
          "barpolar": [
           {
            "marker": {
             "line": {
              "color": "#E5ECF6",
              "width": 0.5
             },
             "pattern": {
              "fillmode": "overlay",
              "size": 10,
              "solidity": 0.2
             }
            },
            "type": "barpolar"
           }
          ],
          "carpet": [
           {
            "aaxis": {
             "endlinecolor": "#2a3f5f",
             "gridcolor": "white",
             "linecolor": "white",
             "minorgridcolor": "white",
             "startlinecolor": "#2a3f5f"
            },
            "baxis": {
             "endlinecolor": "#2a3f5f",
             "gridcolor": "white",
             "linecolor": "white",
             "minorgridcolor": "white",
             "startlinecolor": "#2a3f5f"
            },
            "type": "carpet"
           }
          ],
          "choropleth": [
           {
            "colorbar": {
             "outlinewidth": 0,
             "ticks": ""
            },
            "type": "choropleth"
           }
          ],
          "contour": [
           {
            "colorbar": {
             "outlinewidth": 0,
             "ticks": ""
            },
            "colorscale": [
             [
              0,
              "#0d0887"
             ],
             [
              0.1111111111111111,
              "#46039f"
             ],
             [
              0.2222222222222222,
              "#7201a8"
             ],
             [
              0.3333333333333333,
              "#9c179e"
             ],
             [
              0.4444444444444444,
              "#bd3786"
             ],
             [
              0.5555555555555556,
              "#d8576b"
             ],
             [
              0.6666666666666666,
              "#ed7953"
             ],
             [
              0.7777777777777778,
              "#fb9f3a"
             ],
             [
              0.8888888888888888,
              "#fdca26"
             ],
             [
              1,
              "#f0f921"
             ]
            ],
            "type": "contour"
           }
          ],
          "contourcarpet": [
           {
            "colorbar": {
             "outlinewidth": 0,
             "ticks": ""
            },
            "type": "contourcarpet"
           }
          ],
          "heatmap": [
           {
            "colorbar": {
             "outlinewidth": 0,
             "ticks": ""
            },
            "colorscale": [
             [
              0,
              "#0d0887"
             ],
             [
              0.1111111111111111,
              "#46039f"
             ],
             [
              0.2222222222222222,
              "#7201a8"
             ],
             [
              0.3333333333333333,
              "#9c179e"
             ],
             [
              0.4444444444444444,
              "#bd3786"
             ],
             [
              0.5555555555555556,
              "#d8576b"
             ],
             [
              0.6666666666666666,
              "#ed7953"
             ],
             [
              0.7777777777777778,
              "#fb9f3a"
             ],
             [
              0.8888888888888888,
              "#fdca26"
             ],
             [
              1,
              "#f0f921"
             ]
            ],
            "type": "heatmap"
           }
          ],
          "heatmapgl": [
           {
            "colorbar": {
             "outlinewidth": 0,
             "ticks": ""
            },
            "colorscale": [
             [
              0,
              "#0d0887"
             ],
             [
              0.1111111111111111,
              "#46039f"
             ],
             [
              0.2222222222222222,
              "#7201a8"
             ],
             [
              0.3333333333333333,
              "#9c179e"
             ],
             [
              0.4444444444444444,
              "#bd3786"
             ],
             [
              0.5555555555555556,
              "#d8576b"
             ],
             [
              0.6666666666666666,
              "#ed7953"
             ],
             [
              0.7777777777777778,
              "#fb9f3a"
             ],
             [
              0.8888888888888888,
              "#fdca26"
             ],
             [
              1,
              "#f0f921"
             ]
            ],
            "type": "heatmapgl"
           }
          ],
          "histogram": [
           {
            "marker": {
             "pattern": {
              "fillmode": "overlay",
              "size": 10,
              "solidity": 0.2
             }
            },
            "type": "histogram"
           }
          ],
          "histogram2d": [
           {
            "colorbar": {
             "outlinewidth": 0,
             "ticks": ""
            },
            "colorscale": [
             [
              0,
              "#0d0887"
             ],
             [
              0.1111111111111111,
              "#46039f"
             ],
             [
              0.2222222222222222,
              "#7201a8"
             ],
             [
              0.3333333333333333,
              "#9c179e"
             ],
             [
              0.4444444444444444,
              "#bd3786"
             ],
             [
              0.5555555555555556,
              "#d8576b"
             ],
             [
              0.6666666666666666,
              "#ed7953"
             ],
             [
              0.7777777777777778,
              "#fb9f3a"
             ],
             [
              0.8888888888888888,
              "#fdca26"
             ],
             [
              1,
              "#f0f921"
             ]
            ],
            "type": "histogram2d"
           }
          ],
          "histogram2dcontour": [
           {
            "colorbar": {
             "outlinewidth": 0,
             "ticks": ""
            },
            "colorscale": [
             [
              0,
              "#0d0887"
             ],
             [
              0.1111111111111111,
              "#46039f"
             ],
             [
              0.2222222222222222,
              "#7201a8"
             ],
             [
              0.3333333333333333,
              "#9c179e"
             ],
             [
              0.4444444444444444,
              "#bd3786"
             ],
             [
              0.5555555555555556,
              "#d8576b"
             ],
             [
              0.6666666666666666,
              "#ed7953"
             ],
             [
              0.7777777777777778,
              "#fb9f3a"
             ],
             [
              0.8888888888888888,
              "#fdca26"
             ],
             [
              1,
              "#f0f921"
             ]
            ],
            "type": "histogram2dcontour"
           }
          ],
          "mesh3d": [
           {
            "colorbar": {
             "outlinewidth": 0,
             "ticks": ""
            },
            "type": "mesh3d"
           }
          ],
          "parcoords": [
           {
            "line": {
             "colorbar": {
              "outlinewidth": 0,
              "ticks": ""
             }
            },
            "type": "parcoords"
           }
          ],
          "pie": [
           {
            "automargin": true,
            "type": "pie"
           }
          ],
          "scatter": [
           {
            "fillpattern": {
             "fillmode": "overlay",
             "size": 10,
             "solidity": 0.2
            },
            "type": "scatter"
           }
          ],
          "scatter3d": [
           {
            "line": {
             "colorbar": {
              "outlinewidth": 0,
              "ticks": ""
             }
            },
            "marker": {
             "colorbar": {
              "outlinewidth": 0,
              "ticks": ""
             }
            },
            "type": "scatter3d"
           }
          ],
          "scattercarpet": [
           {
            "marker": {
             "colorbar": {
              "outlinewidth": 0,
              "ticks": ""
             }
            },
            "type": "scattercarpet"
           }
          ],
          "scattergeo": [
           {
            "marker": {
             "colorbar": {
              "outlinewidth": 0,
              "ticks": ""
             }
            },
            "type": "scattergeo"
           }
          ],
          "scattergl": [
           {
            "marker": {
             "colorbar": {
              "outlinewidth": 0,
              "ticks": ""
             }
            },
            "type": "scattergl"
           }
          ],
          "scattermapbox": [
           {
            "marker": {
             "colorbar": {
              "outlinewidth": 0,
              "ticks": ""
             }
            },
            "type": "scattermapbox"
           }
          ],
          "scatterpolar": [
           {
            "marker": {
             "colorbar": {
              "outlinewidth": 0,
              "ticks": ""
             }
            },
            "type": "scatterpolar"
           }
          ],
          "scatterpolargl": [
           {
            "marker": {
             "colorbar": {
              "outlinewidth": 0,
              "ticks": ""
             }
            },
            "type": "scatterpolargl"
           }
          ],
          "scatterternary": [
           {
            "marker": {
             "colorbar": {
              "outlinewidth": 0,
              "ticks": ""
             }
            },
            "type": "scatterternary"
           }
          ],
          "surface": [
           {
            "colorbar": {
             "outlinewidth": 0,
             "ticks": ""
            },
            "colorscale": [
             [
              0,
              "#0d0887"
             ],
             [
              0.1111111111111111,
              "#46039f"
             ],
             [
              0.2222222222222222,
              "#7201a8"
             ],
             [
              0.3333333333333333,
              "#9c179e"
             ],
             [
              0.4444444444444444,
              "#bd3786"
             ],
             [
              0.5555555555555556,
              "#d8576b"
             ],
             [
              0.6666666666666666,
              "#ed7953"
             ],
             [
              0.7777777777777778,
              "#fb9f3a"
             ],
             [
              0.8888888888888888,
              "#fdca26"
             ],
             [
              1,
              "#f0f921"
             ]
            ],
            "type": "surface"
           }
          ],
          "table": [
           {
            "cells": {
             "fill": {
              "color": "#EBF0F8"
             },
             "line": {
              "color": "white"
             }
            },
            "header": {
             "fill": {
              "color": "#C8D4E3"
             },
             "line": {
              "color": "white"
             }
            },
            "type": "table"
           }
          ]
         },
         "layout": {
          "annotationdefaults": {
           "arrowcolor": "#2a3f5f",
           "arrowhead": 0,
           "arrowwidth": 1
          },
          "autotypenumbers": "strict",
          "coloraxis": {
           "colorbar": {
            "outlinewidth": 0,
            "ticks": ""
           }
          },
          "colorscale": {
           "diverging": [
            [
             0,
             "#8e0152"
            ],
            [
             0.1,
             "#c51b7d"
            ],
            [
             0.2,
             "#de77ae"
            ],
            [
             0.3,
             "#f1b6da"
            ],
            [
             0.4,
             "#fde0ef"
            ],
            [
             0.5,
             "#f7f7f7"
            ],
            [
             0.6,
             "#e6f5d0"
            ],
            [
             0.7,
             "#b8e186"
            ],
            [
             0.8,
             "#7fbc41"
            ],
            [
             0.9,
             "#4d9221"
            ],
            [
             1,
             "#276419"
            ]
           ],
           "sequential": [
            [
             0,
             "#0d0887"
            ],
            [
             0.1111111111111111,
             "#46039f"
            ],
            [
             0.2222222222222222,
             "#7201a8"
            ],
            [
             0.3333333333333333,
             "#9c179e"
            ],
            [
             0.4444444444444444,
             "#bd3786"
            ],
            [
             0.5555555555555556,
             "#d8576b"
            ],
            [
             0.6666666666666666,
             "#ed7953"
            ],
            [
             0.7777777777777778,
             "#fb9f3a"
            ],
            [
             0.8888888888888888,
             "#fdca26"
            ],
            [
             1,
             "#f0f921"
            ]
           ],
           "sequentialminus": [
            [
             0,
             "#0d0887"
            ],
            [
             0.1111111111111111,
             "#46039f"
            ],
            [
             0.2222222222222222,
             "#7201a8"
            ],
            [
             0.3333333333333333,
             "#9c179e"
            ],
            [
             0.4444444444444444,
             "#bd3786"
            ],
            [
             0.5555555555555556,
             "#d8576b"
            ],
            [
             0.6666666666666666,
             "#ed7953"
            ],
            [
             0.7777777777777778,
             "#fb9f3a"
            ],
            [
             0.8888888888888888,
             "#fdca26"
            ],
            [
             1,
             "#f0f921"
            ]
           ]
          },
          "colorway": [
           "#636efa",
           "#EF553B",
           "#00cc96",
           "#ab63fa",
           "#FFA15A",
           "#19d3f3",
           "#FF6692",
           "#B6E880",
           "#FF97FF",
           "#FECB52"
          ],
          "font": {
           "color": "#2a3f5f"
          },
          "geo": {
           "bgcolor": "white",
           "lakecolor": "white",
           "landcolor": "#E5ECF6",
           "showlakes": true,
           "showland": true,
           "subunitcolor": "white"
          },
          "hoverlabel": {
           "align": "left"
          },
          "hovermode": "closest",
          "mapbox": {
           "style": "light"
          },
          "paper_bgcolor": "white",
          "plot_bgcolor": "#E5ECF6",
          "polar": {
           "angularaxis": {
            "gridcolor": "white",
            "linecolor": "white",
            "ticks": ""
           },
           "bgcolor": "#E5ECF6",
           "radialaxis": {
            "gridcolor": "white",
            "linecolor": "white",
            "ticks": ""
           }
          },
          "scene": {
           "xaxis": {
            "backgroundcolor": "#E5ECF6",
            "gridcolor": "white",
            "gridwidth": 2,
            "linecolor": "white",
            "showbackground": true,
            "ticks": "",
            "zerolinecolor": "white"
           },
           "yaxis": {
            "backgroundcolor": "#E5ECF6",
            "gridcolor": "white",
            "gridwidth": 2,
            "linecolor": "white",
            "showbackground": true,
            "ticks": "",
            "zerolinecolor": "white"
           },
           "zaxis": {
            "backgroundcolor": "#E5ECF6",
            "gridcolor": "white",
            "gridwidth": 2,
            "linecolor": "white",
            "showbackground": true,
            "ticks": "",
            "zerolinecolor": "white"
           }
          },
          "shapedefaults": {
           "line": {
            "color": "#2a3f5f"
           }
          },
          "ternary": {
           "aaxis": {
            "gridcolor": "white",
            "linecolor": "white",
            "ticks": ""
           },
           "baxis": {
            "gridcolor": "white",
            "linecolor": "white",
            "ticks": ""
           },
           "bgcolor": "#E5ECF6",
           "caxis": {
            "gridcolor": "white",
            "linecolor": "white",
            "ticks": ""
           }
          },
          "title": {
           "x": 0.05
          },
          "xaxis": {
           "automargin": true,
           "gridcolor": "white",
           "linecolor": "white",
           "ticks": "",
           "title": {
            "standoff": 15
           },
           "zerolinecolor": "white",
           "zerolinewidth": 2
          },
          "yaxis": {
           "automargin": true,
           "gridcolor": "white",
           "linecolor": "white",
           "ticks": "",
           "title": {
            "standoff": 15
           },
           "zerolinecolor": "white",
           "zerolinewidth": 2
          }
         }
        },
        "title": {
         "text": "Sends"
        }
       }
      }
     },
     "metadata": {},
     "output_type": "display_data"
    }
   ],
   "source": [
    "z = hist_data.values\n",
    "sh_0, sh_1 = z.shape\n",
    "x = np.linspace(hist_data.index.min(), hist_data.index.max(), sh_0, endpoint=True)\n",
    "y = np.linspace(hist_data.columns.min(), hist_data.columns.max(), sh_1, endpoint=True)\n",
    "fig = go.Figure(data=[go.Surface(z=hist_data.values, x=x, y=y)])\n",
    "\n",
    "fig.update_layout(title='Sends', scene=dict(\n",
    "    xaxis=dict(\n",
    "        range=[min(x), max(x)],\n",
    "        nticks = len(x),\n",
    "        title='Year',\n",
    "    ),\n",
    "    yaxis=dict(\n",
    "        range=[min(y), max(y)],\n",
    "        nticks = len(y),\n",
    "        title='Grade',\n",
    "    ),\n",
    "    zaxis=dict(\n",
    "        # range=[hist_data.values.min(), hist_data.values.max()],\n",
    "        # nticks = len(y),\n",
    "        # title='Grade',\n",
    "    ),\n",
    "))\n",
    "fig.show()                                    \n"
   ]
  },
  {
   "cell_type": "code",
   "execution_count": 17,
   "metadata": {},
   "outputs": [
    {
     "data": {
      "text/html": [
       "<div>\n",
       "<style scoped>\n",
       "    .dataframe tbody tr th:only-of-type {\n",
       "        vertical-align: middle;\n",
       "    }\n",
       "\n",
       "    .dataframe tbody tr th {\n",
       "        vertical-align: top;\n",
       "    }\n",
       "\n",
       "    .dataframe thead th {\n",
       "        text-align: right;\n",
       "    }\n",
       "</style>\n",
       "<table border=\"1\" class=\"dataframe\">\n",
       "  <thead>\n",
       "    <tr style=\"text-align: right;\">\n",
       "      <th></th>\n",
       "      <th>Unnamed: 0</th>\n",
       "      <th>0</th>\n",
       "      <th>1</th>\n",
       "      <th>2</th>\n",
       "      <th>3</th>\n",
       "      <th>4</th>\n",
       "      <th>5</th>\n",
       "      <th>6</th>\n",
       "      <th>7</th>\n",
       "      <th>8</th>\n",
       "      <th>...</th>\n",
       "      <th>14</th>\n",
       "      <th>15</th>\n",
       "      <th>16</th>\n",
       "      <th>17</th>\n",
       "      <th>18</th>\n",
       "      <th>19</th>\n",
       "      <th>20</th>\n",
       "      <th>21</th>\n",
       "      <th>22</th>\n",
       "      <th>23</th>\n",
       "    </tr>\n",
       "  </thead>\n",
       "  <tbody>\n",
       "    <tr>\n",
       "      <th>0</th>\n",
       "      <td>0</td>\n",
       "      <td>27.809850</td>\n",
       "      <td>49.619360</td>\n",
       "      <td>83.080670</td>\n",
       "      <td>116.66320</td>\n",
       "      <td>130.41400</td>\n",
       "      <td>150.72060</td>\n",
       "      <td>220.18710</td>\n",
       "      <td>156.15360</td>\n",
       "      <td>148.64160</td>\n",
       "      <td>...</td>\n",
       "      <td>49.961420</td>\n",
       "      <td>21.89279</td>\n",
       "      <td>17.025520</td>\n",
       "      <td>11.743170</td>\n",
       "      <td>14.752260</td>\n",
       "      <td>13.667100</td>\n",
       "      <td>5.677561</td>\n",
       "      <td>3.312340</td>\n",
       "      <td>1.156517</td>\n",
       "      <td>-0.147662</td>\n",
       "    </tr>\n",
       "    <tr>\n",
       "      <th>1</th>\n",
       "      <td>1</td>\n",
       "      <td>27.719660</td>\n",
       "      <td>48.550220</td>\n",
       "      <td>65.213740</td>\n",
       "      <td>95.27666</td>\n",
       "      <td>116.99640</td>\n",
       "      <td>133.90560</td>\n",
       "      <td>152.34120</td>\n",
       "      <td>151.93400</td>\n",
       "      <td>160.11390</td>\n",
       "      <td>...</td>\n",
       "      <td>33.088710</td>\n",
       "      <td>38.40972</td>\n",
       "      <td>44.248430</td>\n",
       "      <td>69.578600</td>\n",
       "      <td>4.019351</td>\n",
       "      <td>3.050024</td>\n",
       "      <td>3.039719</td>\n",
       "      <td>2.996142</td>\n",
       "      <td>2.967954</td>\n",
       "      <td>1.999594</td>\n",
       "    </tr>\n",
       "    <tr>\n",
       "      <th>2</th>\n",
       "      <td>2</td>\n",
       "      <td>30.426700</td>\n",
       "      <td>33.477520</td>\n",
       "      <td>44.809530</td>\n",
       "      <td>62.47495</td>\n",
       "      <td>77.43523</td>\n",
       "      <td>104.21530</td>\n",
       "      <td>102.73930</td>\n",
       "      <td>137.00040</td>\n",
       "      <td>186.07060</td>\n",
       "      <td>...</td>\n",
       "      <td>48.471320</td>\n",
       "      <td>74.71461</td>\n",
       "      <td>60.090900</td>\n",
       "      <td>7.073525</td>\n",
       "      <td>6.089851</td>\n",
       "      <td>6.537450</td>\n",
       "      <td>6.666096</td>\n",
       "      <td>7.306965</td>\n",
       "      <td>5.736840</td>\n",
       "      <td>3.625628</td>\n",
       "    </tr>\n",
       "    <tr>\n",
       "      <th>3</th>\n",
       "      <td>3</td>\n",
       "      <td>16.665490</td>\n",
       "      <td>30.108600</td>\n",
       "      <td>39.969520</td>\n",
       "      <td>44.12225</td>\n",
       "      <td>59.57512</td>\n",
       "      <td>77.56929</td>\n",
       "      <td>106.89250</td>\n",
       "      <td>166.55390</td>\n",
       "      <td>175.23810</td>\n",
       "      <td>...</td>\n",
       "      <td>60.559160</td>\n",
       "      <td>55.92124</td>\n",
       "      <td>15.172840</td>\n",
       "      <td>8.248324</td>\n",
       "      <td>36.680870</td>\n",
       "      <td>61.934130</td>\n",
       "      <td>20.268670</td>\n",
       "      <td>68.588190</td>\n",
       "      <td>46.498120</td>\n",
       "      <td>0.236010</td>\n",
       "    </tr>\n",
       "    <tr>\n",
       "      <th>4</th>\n",
       "      <td>4</td>\n",
       "      <td>8.815617</td>\n",
       "      <td>18.351600</td>\n",
       "      <td>8.658275</td>\n",
       "      <td>27.58590</td>\n",
       "      <td>48.62691</td>\n",
       "      <td>60.18013</td>\n",
       "      <td>91.32860</td>\n",
       "      <td>145.71090</td>\n",
       "      <td>116.06530</td>\n",
       "      <td>...</td>\n",
       "      <td>47.426910</td>\n",
       "      <td>69.20731</td>\n",
       "      <td>44.954680</td>\n",
       "      <td>29.171970</td>\n",
       "      <td>17.916740</td>\n",
       "      <td>16.255150</td>\n",
       "      <td>14.655590</td>\n",
       "      <td>17.260480</td>\n",
       "      <td>31.222450</td>\n",
       "      <td>46.717040</td>\n",
       "    </tr>\n",
       "    <tr>\n",
       "      <th>5</th>\n",
       "      <td>5</td>\n",
       "      <td>6.628881</td>\n",
       "      <td>10.413390</td>\n",
       "      <td>24.819390</td>\n",
       "      <td>26.08952</td>\n",
       "      <td>30.16050</td>\n",
       "      <td>52.30802</td>\n",
       "      <td>64.71007</td>\n",
       "      <td>76.30823</td>\n",
       "      <td>84.63686</td>\n",
       "      <td>...</td>\n",
       "      <td>140.264700</td>\n",
       "      <td>81.26501</td>\n",
       "      <td>56.457560</td>\n",
       "      <td>30.421640</td>\n",
       "      <td>17.287820</td>\n",
       "      <td>8.302431</td>\n",
       "      <td>2.981626</td>\n",
       "      <td>2.698536</td>\n",
       "      <td>5.886086</td>\n",
       "      <td>5.268358</td>\n",
       "    </tr>\n",
       "    <tr>\n",
       "      <th>6</th>\n",
       "      <td>6</td>\n",
       "      <td>21.839750</td>\n",
       "      <td>6.639270</td>\n",
       "      <td>18.970850</td>\n",
       "      <td>32.89204</td>\n",
       "      <td>43.15014</td>\n",
       "      <td>62.86014</td>\n",
       "      <td>104.66570</td>\n",
       "      <td>130.22940</td>\n",
       "      <td>114.84940</td>\n",
       "      <td>...</td>\n",
       "      <td>122.422100</td>\n",
       "      <td>123.96980</td>\n",
       "      <td>109.095200</td>\n",
       "      <td>98.419560</td>\n",
       "      <td>77.613740</td>\n",
       "      <td>32.490310</td>\n",
       "      <td>14.673440</td>\n",
       "      <td>7.370775</td>\n",
       "      <td>0.037110</td>\n",
       "      <td>0.642339</td>\n",
       "    </tr>\n",
       "    <tr>\n",
       "      <th>7</th>\n",
       "      <td>7</td>\n",
       "      <td>53.343030</td>\n",
       "      <td>26.797970</td>\n",
       "      <td>6.639270</td>\n",
       "      <td>10.88787</td>\n",
       "      <td>17.20440</td>\n",
       "      <td>56.18116</td>\n",
       "      <td>79.70141</td>\n",
       "      <td>90.84530</td>\n",
       "      <td>98.27675</td>\n",
       "      <td>...</td>\n",
       "      <td>68.174900</td>\n",
       "      <td>46.24076</td>\n",
       "      <td>39.938570</td>\n",
       "      <td>31.216530</td>\n",
       "      <td>36.883350</td>\n",
       "      <td>40.025250</td>\n",
       "      <td>117.429700</td>\n",
       "      <td>12.703280</td>\n",
       "      <td>1.729771</td>\n",
       "      <td>0.000000</td>\n",
       "    </tr>\n",
       "    <tr>\n",
       "      <th>8</th>\n",
       "      <td>8</td>\n",
       "      <td>25.667850</td>\n",
       "      <td>63.057170</td>\n",
       "      <td>22.141400</td>\n",
       "      <td>17.07400</td>\n",
       "      <td>41.74483</td>\n",
       "      <td>60.27227</td>\n",
       "      <td>81.42432</td>\n",
       "      <td>114.44400</td>\n",
       "      <td>102.32340</td>\n",
       "      <td>...</td>\n",
       "      <td>59.193550</td>\n",
       "      <td>42.47175</td>\n",
       "      <td>14.635980</td>\n",
       "      <td>6.944074</td>\n",
       "      <td>6.944075</td>\n",
       "      <td>27.749360</td>\n",
       "      <td>0.000000</td>\n",
       "      <td>0.000000</td>\n",
       "      <td>0.094494</td>\n",
       "      <td>0.077323</td>\n",
       "    </tr>\n",
       "    <tr>\n",
       "      <th>9</th>\n",
       "      <td>9</td>\n",
       "      <td>12.827000</td>\n",
       "      <td>69.205540</td>\n",
       "      <td>46.762930</td>\n",
       "      <td>13.96517</td>\n",
       "      <td>33.88744</td>\n",
       "      <td>61.82613</td>\n",
       "      <td>84.74799</td>\n",
       "      <td>121.12200</td>\n",
       "      <td>145.27410</td>\n",
       "      <td>...</td>\n",
       "      <td>79.344250</td>\n",
       "      <td>25.93483</td>\n",
       "      <td>6.944074</td>\n",
       "      <td>6.944074</td>\n",
       "      <td>6.944075</td>\n",
       "      <td>7.553681</td>\n",
       "      <td>0.000000</td>\n",
       "      <td>0.000000</td>\n",
       "      <td>0.000000</td>\n",
       "      <td>0.000000</td>\n",
       "    </tr>\n",
       "    <tr>\n",
       "      <th>10</th>\n",
       "      <td>10</td>\n",
       "      <td>0.000000</td>\n",
       "      <td>68.663960</td>\n",
       "      <td>59.043500</td>\n",
       "      <td>33.35762</td>\n",
       "      <td>47.45282</td>\n",
       "      <td>57.83550</td>\n",
       "      <td>78.91689</td>\n",
       "      <td>107.82750</td>\n",
       "      <td>168.00530</td>\n",
       "      <td>...</td>\n",
       "      <td>189.761700</td>\n",
       "      <td>137.33780</td>\n",
       "      <td>84.653950</td>\n",
       "      <td>8.677168</td>\n",
       "      <td>6.956576</td>\n",
       "      <td>8.468093</td>\n",
       "      <td>0.000000</td>\n",
       "      <td>0.000000</td>\n",
       "      <td>0.000000</td>\n",
       "      <td>0.000000</td>\n",
       "    </tr>\n",
       "    <tr>\n",
       "      <th>11</th>\n",
       "      <td>11</td>\n",
       "      <td>0.000000</td>\n",
       "      <td>95.174990</td>\n",
       "      <td>80.038180</td>\n",
       "      <td>59.89862</td>\n",
       "      <td>39.58476</td>\n",
       "      <td>50.28058</td>\n",
       "      <td>63.81641</td>\n",
       "      <td>80.61302</td>\n",
       "      <td>66.37824</td>\n",
       "      <td>...</td>\n",
       "      <td>60.218570</td>\n",
       "      <td>77.41475</td>\n",
       "      <td>53.169810</td>\n",
       "      <td>56.163930</td>\n",
       "      <td>6.949235</td>\n",
       "      <td>7.531059</td>\n",
       "      <td>3.780177</td>\n",
       "      <td>0.000000</td>\n",
       "      <td>0.000000</td>\n",
       "      <td>0.000000</td>\n",
       "    </tr>\n",
       "    <tr>\n",
       "      <th>12</th>\n",
       "      <td>12</td>\n",
       "      <td>0.000000</td>\n",
       "      <td>134.987900</td>\n",
       "      <td>130.369600</td>\n",
       "      <td>96.86325</td>\n",
       "      <td>75.70494</td>\n",
       "      <td>58.86466</td>\n",
       "      <td>57.20374</td>\n",
       "      <td>55.18837</td>\n",
       "      <td>78.12800</td>\n",
       "      <td>...</td>\n",
       "      <td>130.263200</td>\n",
       "      <td>54.93822</td>\n",
       "      <td>25.497190</td>\n",
       "      <td>8.047439</td>\n",
       "      <td>8.084393</td>\n",
       "      <td>5.115252</td>\n",
       "      <td>5.678269</td>\n",
       "      <td>0.000000</td>\n",
       "      <td>0.000000</td>\n",
       "      <td>0.000000</td>\n",
       "    </tr>\n",
       "    <tr>\n",
       "      <th>13</th>\n",
       "      <td>13</td>\n",
       "      <td>0.000000</td>\n",
       "      <td>48.089190</td>\n",
       "      <td>142.555800</td>\n",
       "      <td>140.37770</td>\n",
       "      <td>154.72610</td>\n",
       "      <td>87.93610</td>\n",
       "      <td>58.11092</td>\n",
       "      <td>52.83869</td>\n",
       "      <td>67.14822</td>\n",
       "      <td>...</td>\n",
       "      <td>238.664000</td>\n",
       "      <td>190.20000</td>\n",
       "      <td>116.894300</td>\n",
       "      <td>91.486720</td>\n",
       "      <td>14.015700</td>\n",
       "      <td>42.292770</td>\n",
       "      <td>5.115252</td>\n",
       "      <td>0.000000</td>\n",
       "      <td>0.000000</td>\n",
       "      <td>0.000000</td>\n",
       "    </tr>\n",
       "    <tr>\n",
       "      <th>14</th>\n",
       "      <td>14</td>\n",
       "      <td>0.000000</td>\n",
       "      <td>54.194100</td>\n",
       "      <td>146.383900</td>\n",
       "      <td>99.48143</td>\n",
       "      <td>96.19411</td>\n",
       "      <td>102.94730</td>\n",
       "      <td>76.14089</td>\n",
       "      <td>57.78440</td>\n",
       "      <td>47.04020</td>\n",
       "      <td>...</td>\n",
       "      <td>328.482000</td>\n",
       "      <td>285.44890</td>\n",
       "      <td>283.831900</td>\n",
       "      <td>212.815000</td>\n",
       "      <td>164.549000</td>\n",
       "      <td>92.296310</td>\n",
       "      <td>7.244015</td>\n",
       "      <td>1.167000</td>\n",
       "      <td>0.000000</td>\n",
       "      <td>0.000000</td>\n",
       "    </tr>\n",
       "    <tr>\n",
       "      <th>15</th>\n",
       "      <td>15</td>\n",
       "      <td>0.000000</td>\n",
       "      <td>6.919659</td>\n",
       "      <td>195.170900</td>\n",
       "      <td>132.52530</td>\n",
       "      <td>135.23410</td>\n",
       "      <td>89.85069</td>\n",
       "      <td>89.45549</td>\n",
       "      <td>60.29967</td>\n",
       "      <td>50.33806</td>\n",
       "      <td>...</td>\n",
       "      <td>123.967300</td>\n",
       "      <td>103.70270</td>\n",
       "      <td>128.986000</td>\n",
       "      <td>165.128300</td>\n",
       "      <td>249.705400</td>\n",
       "      <td>95.399660</td>\n",
       "      <td>10.002840</td>\n",
       "      <td>2.392550</td>\n",
       "      <td>0.000000</td>\n",
       "      <td>0.000000</td>\n",
       "    </tr>\n",
       "    <tr>\n",
       "      <th>16</th>\n",
       "      <td>16</td>\n",
       "      <td>0.000000</td>\n",
       "      <td>21.738710</td>\n",
       "      <td>123.133900</td>\n",
       "      <td>176.74140</td>\n",
       "      <td>158.26980</td>\n",
       "      <td>137.23500</td>\n",
       "      <td>105.30890</td>\n",
       "      <td>86.63255</td>\n",
       "      <td>53.11591</td>\n",
       "      <td>...</td>\n",
       "      <td>111.421500</td>\n",
       "      <td>101.19560</td>\n",
       "      <td>40.009620</td>\n",
       "      <td>59.845650</td>\n",
       "      <td>74.512530</td>\n",
       "      <td>17.063160</td>\n",
       "      <td>2.435141</td>\n",
       "      <td>2.287471</td>\n",
       "      <td>-0.000364</td>\n",
       "      <td>0.000000</td>\n",
       "    </tr>\n",
       "    <tr>\n",
       "      <th>17</th>\n",
       "      <td>17</td>\n",
       "      <td>0.000000</td>\n",
       "      <td>0.000000</td>\n",
       "      <td>62.046720</td>\n",
       "      <td>136.31220</td>\n",
       "      <td>201.79520</td>\n",
       "      <td>168.13430</td>\n",
       "      <td>95.20460</td>\n",
       "      <td>58.90624</td>\n",
       "      <td>46.94091</td>\n",
       "      <td>...</td>\n",
       "      <td>44.030770</td>\n",
       "      <td>55.64542</td>\n",
       "      <td>78.224230</td>\n",
       "      <td>14.427820</td>\n",
       "      <td>9.954997</td>\n",
       "      <td>7.768213</td>\n",
       "      <td>13.025400</td>\n",
       "      <td>21.731660</td>\n",
       "      <td>2.156372</td>\n",
       "      <td>0.531787</td>\n",
       "    </tr>\n",
       "    <tr>\n",
       "      <th>18</th>\n",
       "      <td>18</td>\n",
       "      <td>0.000000</td>\n",
       "      <td>0.000000</td>\n",
       "      <td>79.629930</td>\n",
       "      <td>139.69780</td>\n",
       "      <td>173.16700</td>\n",
       "      <td>192.87180</td>\n",
       "      <td>196.34990</td>\n",
       "      <td>144.66110</td>\n",
       "      <td>106.54240</td>\n",
       "      <td>...</td>\n",
       "      <td>12.071770</td>\n",
       "      <td>22.38254</td>\n",
       "      <td>24.721050</td>\n",
       "      <td>6.803666</td>\n",
       "      <td>4.200841</td>\n",
       "      <td>16.468570</td>\n",
       "      <td>15.707440</td>\n",
       "      <td>33.962210</td>\n",
       "      <td>7.575688</td>\n",
       "      <td>-0.048809</td>\n",
       "    </tr>\n",
       "    <tr>\n",
       "      <th>19</th>\n",
       "      <td>19</td>\n",
       "      <td>0.000000</td>\n",
       "      <td>0.000000</td>\n",
       "      <td>33.266400</td>\n",
       "      <td>57.53643</td>\n",
       "      <td>167.22410</td>\n",
       "      <td>196.48330</td>\n",
       "      <td>194.79660</td>\n",
       "      <td>182.18840</td>\n",
       "      <td>119.69610</td>\n",
       "      <td>...</td>\n",
       "      <td>6.811293</td>\n",
       "      <td>6.63927</td>\n",
       "      <td>6.639271</td>\n",
       "      <td>8.468093</td>\n",
       "      <td>6.194273</td>\n",
       "      <td>3.591233</td>\n",
       "      <td>3.814860</td>\n",
       "      <td>8.600739</td>\n",
       "      <td>5.218890</td>\n",
       "      <td>0.000000</td>\n",
       "    </tr>\n",
       "    <tr>\n",
       "      <th>20</th>\n",
       "      <td>20</td>\n",
       "      <td>0.000000</td>\n",
       "      <td>0.000000</td>\n",
       "      <td>29.779370</td>\n",
       "      <td>54.97282</td>\n",
       "      <td>144.79950</td>\n",
       "      <td>207.49040</td>\n",
       "      <td>165.34320</td>\n",
       "      <td>171.40470</td>\n",
       "      <td>174.92160</td>\n",
       "      <td>...</td>\n",
       "      <td>8.468093</td>\n",
       "      <td>6.63927</td>\n",
       "      <td>6.334467</td>\n",
       "      <td>6.334467</td>\n",
       "      <td>5.666687</td>\n",
       "      <td>4.272203</td>\n",
       "      <td>0.000000</td>\n",
       "      <td>0.000000</td>\n",
       "      <td>0.000000</td>\n",
       "      <td>0.000000</td>\n",
       "    </tr>\n",
       "    <tr>\n",
       "      <th>21</th>\n",
       "      <td>21</td>\n",
       "      <td>0.000000</td>\n",
       "      <td>0.000000</td>\n",
       "      <td>31.409000</td>\n",
       "      <td>132.74180</td>\n",
       "      <td>185.57960</td>\n",
       "      <td>121.82990</td>\n",
       "      <td>185.38410</td>\n",
       "      <td>160.65660</td>\n",
       "      <td>116.14780</td>\n",
       "      <td>...</td>\n",
       "      <td>18.129320</td>\n",
       "      <td>10.28531</td>\n",
       "      <td>6.029663</td>\n",
       "      <td>6.044627</td>\n",
       "      <td>5.694764</td>\n",
       "      <td>3.739085</td>\n",
       "      <td>3.896037</td>\n",
       "      <td>0.000000</td>\n",
       "      <td>0.000000</td>\n",
       "      <td>0.000000</td>\n",
       "    </tr>\n",
       "    <tr>\n",
       "      <th>22</th>\n",
       "      <td>22</td>\n",
       "      <td>0.000000</td>\n",
       "      <td>0.000000</td>\n",
       "      <td>19.589940</td>\n",
       "      <td>42.30355</td>\n",
       "      <td>96.26777</td>\n",
       "      <td>187.12070</td>\n",
       "      <td>179.66260</td>\n",
       "      <td>221.38980</td>\n",
       "      <td>154.26170</td>\n",
       "      <td>...</td>\n",
       "      <td>26.101660</td>\n",
       "      <td>14.48469</td>\n",
       "      <td>8.658730</td>\n",
       "      <td>3.896037</td>\n",
       "      <td>3.571392</td>\n",
       "      <td>3.896037</td>\n",
       "      <td>3.896037</td>\n",
       "      <td>3.896037</td>\n",
       "      <td>1.077756</td>\n",
       "      <td>0.000000</td>\n",
       "    </tr>\n",
       "    <tr>\n",
       "      <th>23</th>\n",
       "      <td>23</td>\n",
       "      <td>0.001230</td>\n",
       "      <td>3.008948</td>\n",
       "      <td>5.909858</td>\n",
       "      <td>33.50574</td>\n",
       "      <td>104.33410</td>\n",
       "      <td>152.21650</td>\n",
       "      <td>198.19880</td>\n",
       "      <td>191.84100</td>\n",
       "      <td>228.73490</td>\n",
       "      <td>...</td>\n",
       "      <td>27.918910</td>\n",
       "      <td>15.41052</td>\n",
       "      <td>8.056102</td>\n",
       "      <td>3.902830</td>\n",
       "      <td>3.879774</td>\n",
       "      <td>3.936718</td>\n",
       "      <td>3.968634</td>\n",
       "      <td>0.123626</td>\n",
       "      <td>3.985531</td>\n",
       "      <td>-0.183574</td>\n",
       "    </tr>\n",
       "    <tr>\n",
       "      <th>24</th>\n",
       "      <td>24</td>\n",
       "      <td>0.000000</td>\n",
       "      <td>5.626141</td>\n",
       "      <td>7.676256</td>\n",
       "      <td>63.16226</td>\n",
       "      <td>45.99762</td>\n",
       "      <td>79.56688</td>\n",
       "      <td>227.31100</td>\n",
       "      <td>203.92870</td>\n",
       "      <td>172.56180</td>\n",
       "      <td>...</td>\n",
       "      <td>34.318870</td>\n",
       "      <td>24.52780</td>\n",
       "      <td>9.561069</td>\n",
       "      <td>3.334991</td>\n",
       "      <td>5.590495</td>\n",
       "      <td>5.487353</td>\n",
       "      <td>5.909499</td>\n",
       "      <td>5.868994</td>\n",
       "      <td>5.833817</td>\n",
       "      <td>3.568177</td>\n",
       "    </tr>\n",
       "  </tbody>\n",
       "</table>\n",
       "<p>25 rows × 25 columns</p>\n",
       "</div>"
      ],
      "text/plain": [
       "    Unnamed: 0          0           1           2          3          4  \\\n",
       "0            0  27.809850   49.619360   83.080670  116.66320  130.41400   \n",
       "1            1  27.719660   48.550220   65.213740   95.27666  116.99640   \n",
       "2            2  30.426700   33.477520   44.809530   62.47495   77.43523   \n",
       "3            3  16.665490   30.108600   39.969520   44.12225   59.57512   \n",
       "4            4   8.815617   18.351600    8.658275   27.58590   48.62691   \n",
       "5            5   6.628881   10.413390   24.819390   26.08952   30.16050   \n",
       "6            6  21.839750    6.639270   18.970850   32.89204   43.15014   \n",
       "7            7  53.343030   26.797970    6.639270   10.88787   17.20440   \n",
       "8            8  25.667850   63.057170   22.141400   17.07400   41.74483   \n",
       "9            9  12.827000   69.205540   46.762930   13.96517   33.88744   \n",
       "10          10   0.000000   68.663960   59.043500   33.35762   47.45282   \n",
       "11          11   0.000000   95.174990   80.038180   59.89862   39.58476   \n",
       "12          12   0.000000  134.987900  130.369600   96.86325   75.70494   \n",
       "13          13   0.000000   48.089190  142.555800  140.37770  154.72610   \n",
       "14          14   0.000000   54.194100  146.383900   99.48143   96.19411   \n",
       "15          15   0.000000    6.919659  195.170900  132.52530  135.23410   \n",
       "16          16   0.000000   21.738710  123.133900  176.74140  158.26980   \n",
       "17          17   0.000000    0.000000   62.046720  136.31220  201.79520   \n",
       "18          18   0.000000    0.000000   79.629930  139.69780  173.16700   \n",
       "19          19   0.000000    0.000000   33.266400   57.53643  167.22410   \n",
       "20          20   0.000000    0.000000   29.779370   54.97282  144.79950   \n",
       "21          21   0.000000    0.000000   31.409000  132.74180  185.57960   \n",
       "22          22   0.000000    0.000000   19.589940   42.30355   96.26777   \n",
       "23          23   0.001230    3.008948    5.909858   33.50574  104.33410   \n",
       "24          24   0.000000    5.626141    7.676256   63.16226   45.99762   \n",
       "\n",
       "            5          6          7          8  ...          14         15  \\\n",
       "0   150.72060  220.18710  156.15360  148.64160  ...   49.961420   21.89279   \n",
       "1   133.90560  152.34120  151.93400  160.11390  ...   33.088710   38.40972   \n",
       "2   104.21530  102.73930  137.00040  186.07060  ...   48.471320   74.71461   \n",
       "3    77.56929  106.89250  166.55390  175.23810  ...   60.559160   55.92124   \n",
       "4    60.18013   91.32860  145.71090  116.06530  ...   47.426910   69.20731   \n",
       "5    52.30802   64.71007   76.30823   84.63686  ...  140.264700   81.26501   \n",
       "6    62.86014  104.66570  130.22940  114.84940  ...  122.422100  123.96980   \n",
       "7    56.18116   79.70141   90.84530   98.27675  ...   68.174900   46.24076   \n",
       "8    60.27227   81.42432  114.44400  102.32340  ...   59.193550   42.47175   \n",
       "9    61.82613   84.74799  121.12200  145.27410  ...   79.344250   25.93483   \n",
       "10   57.83550   78.91689  107.82750  168.00530  ...  189.761700  137.33780   \n",
       "11   50.28058   63.81641   80.61302   66.37824  ...   60.218570   77.41475   \n",
       "12   58.86466   57.20374   55.18837   78.12800  ...  130.263200   54.93822   \n",
       "13   87.93610   58.11092   52.83869   67.14822  ...  238.664000  190.20000   \n",
       "14  102.94730   76.14089   57.78440   47.04020  ...  328.482000  285.44890   \n",
       "15   89.85069   89.45549   60.29967   50.33806  ...  123.967300  103.70270   \n",
       "16  137.23500  105.30890   86.63255   53.11591  ...  111.421500  101.19560   \n",
       "17  168.13430   95.20460   58.90624   46.94091  ...   44.030770   55.64542   \n",
       "18  192.87180  196.34990  144.66110  106.54240  ...   12.071770   22.38254   \n",
       "19  196.48330  194.79660  182.18840  119.69610  ...    6.811293    6.63927   \n",
       "20  207.49040  165.34320  171.40470  174.92160  ...    8.468093    6.63927   \n",
       "21  121.82990  185.38410  160.65660  116.14780  ...   18.129320   10.28531   \n",
       "22  187.12070  179.66260  221.38980  154.26170  ...   26.101660   14.48469   \n",
       "23  152.21650  198.19880  191.84100  228.73490  ...   27.918910   15.41052   \n",
       "24   79.56688  227.31100  203.92870  172.56180  ...   34.318870   24.52780   \n",
       "\n",
       "            16          17          18         19          20         21  \\\n",
       "0    17.025520   11.743170   14.752260  13.667100    5.677561   3.312340   \n",
       "1    44.248430   69.578600    4.019351   3.050024    3.039719   2.996142   \n",
       "2    60.090900    7.073525    6.089851   6.537450    6.666096   7.306965   \n",
       "3    15.172840    8.248324   36.680870  61.934130   20.268670  68.588190   \n",
       "4    44.954680   29.171970   17.916740  16.255150   14.655590  17.260480   \n",
       "5    56.457560   30.421640   17.287820   8.302431    2.981626   2.698536   \n",
       "6   109.095200   98.419560   77.613740  32.490310   14.673440   7.370775   \n",
       "7    39.938570   31.216530   36.883350  40.025250  117.429700  12.703280   \n",
       "8    14.635980    6.944074    6.944075  27.749360    0.000000   0.000000   \n",
       "9     6.944074    6.944074    6.944075   7.553681    0.000000   0.000000   \n",
       "10   84.653950    8.677168    6.956576   8.468093    0.000000   0.000000   \n",
       "11   53.169810   56.163930    6.949235   7.531059    3.780177   0.000000   \n",
       "12   25.497190    8.047439    8.084393   5.115252    5.678269   0.000000   \n",
       "13  116.894300   91.486720   14.015700  42.292770    5.115252   0.000000   \n",
       "14  283.831900  212.815000  164.549000  92.296310    7.244015   1.167000   \n",
       "15  128.986000  165.128300  249.705400  95.399660   10.002840   2.392550   \n",
       "16   40.009620   59.845650   74.512530  17.063160    2.435141   2.287471   \n",
       "17   78.224230   14.427820    9.954997   7.768213   13.025400  21.731660   \n",
       "18   24.721050    6.803666    4.200841  16.468570   15.707440  33.962210   \n",
       "19    6.639271    8.468093    6.194273   3.591233    3.814860   8.600739   \n",
       "20    6.334467    6.334467    5.666687   4.272203    0.000000   0.000000   \n",
       "21    6.029663    6.044627    5.694764   3.739085    3.896037   0.000000   \n",
       "22    8.658730    3.896037    3.571392   3.896037    3.896037   3.896037   \n",
       "23    8.056102    3.902830    3.879774   3.936718    3.968634   0.123626   \n",
       "24    9.561069    3.334991    5.590495   5.487353    5.909499   5.868994   \n",
       "\n",
       "           22         23  \n",
       "0    1.156517  -0.147662  \n",
       "1    2.967954   1.999594  \n",
       "2    5.736840   3.625628  \n",
       "3   46.498120   0.236010  \n",
       "4   31.222450  46.717040  \n",
       "5    5.886086   5.268358  \n",
       "6    0.037110   0.642339  \n",
       "7    1.729771   0.000000  \n",
       "8    0.094494   0.077323  \n",
       "9    0.000000   0.000000  \n",
       "10   0.000000   0.000000  \n",
       "11   0.000000   0.000000  \n",
       "12   0.000000   0.000000  \n",
       "13   0.000000   0.000000  \n",
       "14   0.000000   0.000000  \n",
       "15   0.000000   0.000000  \n",
       "16  -0.000364   0.000000  \n",
       "17   2.156372   0.531787  \n",
       "18   7.575688  -0.048809  \n",
       "19   5.218890   0.000000  \n",
       "20   0.000000   0.000000  \n",
       "21   0.000000   0.000000  \n",
       "22   1.077756   0.000000  \n",
       "23   3.985531  -0.183574  \n",
       "24   5.833817   3.568177  \n",
       "\n",
       "[25 rows x 25 columns]"
      ]
     },
     "execution_count": 17,
     "metadata": {},
     "output_type": "execute_result"
    }
   ],
   "source": [
    "pd.read_csv('https://raw.githubusercontent.com/plotly/datasets/master/api_docs/mt_bruno_elevation.csv')\n"
   ]
  }
 ],
 "metadata": {
  "kernelspec": {
   "display_name": "Python 3.10.5 ('env': venv)",
   "language": "python",
   "name": "python3"
  },
  "language_info": {
   "codemirror_mode": {
    "name": "ipython",
    "version": 3
   },
   "file_extension": ".py",
   "mimetype": "text/x-python",
   "name": "python",
   "nbconvert_exporter": "python",
   "pygments_lexer": "ipython3",
   "version": "3.10.5"
  },
  "orig_nbformat": 4,
  "vscode": {
   "interpreter": {
    "hash": "a19587f82ecd7e040fcca5e50fd9bcc8c6346b1a332aaf0fdb5396a45d9392e3"
   }
  }
 },
 "nbformat": 4,
 "nbformat_minor": 2
}
